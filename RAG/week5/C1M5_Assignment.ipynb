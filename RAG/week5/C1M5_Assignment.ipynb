{
 "cells": [
  {
   "cell_type": "markdown",
   "metadata": {},
   "source": [
    "# Programming Assignment: Improving a RAG System\n",
    "\n",
    "---\n",
    "\n",
    "You've made it to the final assignment of the RAG course—congrats on reaching this stage! Now that you’ve got a handle on building RAG systems, it's time to shift gears and make them even better. In this assignment, you’ll dive into:\n",
    "\n",
    "1. **Cost Measurement**: Figure out the potential costs of running a RAG application.\n",
    "2. **Prompt Improvement**: Enhance your prompts to speed up response times, while finding the right balance between time, performance, and cost.\n",
    "3. **Tracing System**: Set up a system to keep track of the inputs and outputs during interactions with the RAG system.\n",
    "\n",
    "These tasks are in your hands now. Good luck, and have fun with it!\n",
    "\n",
    "---\n",
    "<h4 style=\"color:white; font-weight:bold;\">USING THE TABLE OF CONTENTS</h4>\n",
    "\n",
    "JupyterLab provides an easy way for you to navigate through your assignment. It's located under the Table of Contents tab, found in the left panel, as shown in the picture below.\n",
    "\n",
    "![TOC Location](images/toc.png)\n",
    "\n",
    "---\n",
    "\n",
    "<h4 style=\"color:green; font-weight:bold;\">TIPS FOR SUCCESSFUL GRADING OF YOUR ASSIGNMENT:</h4>\n",
    "\n",
    "- All cells are frozen except for the ones where you need to submit your solutions or when explicitly mentioned you can interact with it.\n",
    "\n",
    "- You can add new cells to experiment but these will be omitted by the grader, so don't rely on newly created cells to host your solution code, use the provided places for this.\n",
    "\n",
    "- Avoid using global variables unless you absolutely have to. The grader tests your code in an isolated environment without running all cells from the top. As a result, global variables may be unavailable when scoring your submission. Global variables that are meant to be used will be defined in UPPERCASE.\n",
    "\n",
    "- - To submit your notebook for grading, first save it by clicking the 💾 icon on the top left of the page and then click on the <span style=\"background-color: blue; color: white; padding: 3px 5px; font-size: 16px; border-radius: 5px;\">Submit assignment</span> button on the top right of the page.\n",
    "---"
   ]
  },
  {
   "cell_type": "markdown",
   "metadata": {},
   "source": [
    "\n",
    "# Table of Contents\n",
    "- [ 1 - Introduction: Your Role at Fashion Forward Hub](#1)\n",
    "  - [ 1.1 Importing the libraries](#1-1)\n",
    "  - [ 1.2 Loading the Weaviate client](#1-2)\n",
    "  - [ 1.3 Preparing the Tracing with Phoenix](#1-3)\n",
    "  - [ 1.4 (Optional) Setting model cost per token](#1-4)\n",
    "- [ 2 - A Quick Recap on the Database Structure](#2)\n",
    "  - [ 2.1 Products Database](#2-1)\n",
    "  - [ 2.2 FAQ Database](#2-2)\n",
    "- [ 3 - Recap on LLM calls and new output](#3)\n",
    "  - [ 3.1 Function to generate the parameters dictionary](#3-1)\n",
    "- [ 4 - Improving task handling](#4)\n",
    "  - [ 4.1 Refactoring the function to decide whether it is an FAQ or product-related question](#4-1)\n",
    "    - [ Exercise 1](#ex01)\n",
    "  - [ 4.2 Answering a FAQ question](#4-2)\n",
    "  - [ 4.3 Querying on FAQ](#4-3)\n",
    "    - [ Exercise 2](#ex02)\n",
    "  - [ 4.4 Improving the Decision Between Creative or Technical Product Queries](#4-4)\n",
    "    - [ Exercise 3](#ex03)\n",
    "  - [ 4.5 Retrieving the parameters for a given task](#4-5)\n",
    "- [ 5 - Retrieving Items Based on Metadata from a Query](#5)\n",
    "  - [ 5.1 Generate metadata](#5-1)\n",
    "  - [ 5.2 Loading the Weaviate Product Collection](#5-2)\n",
    "  - [ 5.3 Filtering by Metadata](#5-3)\n",
    "    - [ Exercise 4](#ex04)\n",
    "  - [ 5.4 Generating the retrieved items as context](#5-4)\n",
    "  - [ 5.5 Query on Products](#5-5)\n",
    "- [ 6 - The final function! ](#6)\n",
    "  - [ 6.1 The function to rule them all](#6-1)\n",
    "- [ 7 - The ChatBot](#7)\n"
   ]
  },
  {
   "cell_type": "markdown",
   "metadata": {},
   "source": [
    "<a id='1'></a>\n",
    "## 1 - Introduction: Your Role at Fashion Forward Hub\n",
    "---\n",
    "\n",
    "Congratulations on the success of your ChatBot at Fashion Forward Hub! Customers are thrilled with its functionality, which has significantly reduced calls to customer service and increased sales by providing detailed information and personalized fashion suggestions. However, success has brought some challenges that need your attention:\n",
    "\n",
    "1. **Rising Costs**: As more customers use the ChatBot, operating costs have increased significantly. This issue has caught the attention of directors, who need better cost monitoring. Currently, there's no system in place to identify where these costs are originating.\n",
    "\n",
    "2. **High Response Times**: Occasionally, response times are too long for certain user queries, leading to customer dissatisfaction.\n",
    "\n",
    "As the RAG expert responsible for this ChatBot, your next task is to address these challenges by:\n",
    "\n",
    "1. Monitoring and controlling costs and response times effectively.\n",
    "2. Enhancing prompts to strike a balance between cost, performance, and speed.\n",
    "\n",
    "To accomplish these goals, you will need to develop new functions and refine existing ones in the RAG framework.\n",
    "\n",
    "<a id='1-1'></a>\n",
    "### 1.1 Importing the libraries\n",
    "\n"
   ]
  },
  {
   "cell_type": "code",
   "execution_count": 1,
   "metadata": {
    "deletable": false,
    "editable": false,
    "tags": [
     "graded"
    ]
   },
   "outputs": [],
   "source": [
    "import json\n",
    "from weaviate.classes.query import Filter\n",
    "import weaviate\n",
    "import joblib\n",
    "import pandas as pd"
   ]
  },
  {
   "cell_type": "code",
   "execution_count": 2,
   "metadata": {
    "deletable": false,
    "editable": false,
    "tags": []
   },
   "outputs": [
    {
     "name": "stdout",
     "output_type": "stream",
     "text": [
      " * Serving Flask app 'flask_app'\n",
      " * Debug mode: off\n"
     ]
    }
   ],
   "source": [
    "import flask_app\n",
    "import weaviate_server\n",
    "import unittests\n",
    "import json\n",
    "from utils import (\n",
    "    ChatWidget, \n",
    "    generate_with_single_input,\n",
    "    parse_json_output,\n",
    "    get_filter_by_metadata,\n",
    "    generate_filters_from_query,\n",
    "    process_and_print_query,\n",
    "    print_properties,\n",
    "    make_url\n",
    ")"
   ]
  },
  {
   "cell_type": "markdown",
   "metadata": {},
   "source": [
    "<a id='1-2'></a>\n",
    "### 1.2 Loading the Weaviate client\n",
    "\n",
    "In this assignment you will use again the Weaviate API to load the vector database. Do not worry, you won't need to load the database. It is already given to you!"
   ]
  },
  {
   "cell_type": "code",
   "execution_count": 3,
   "metadata": {
    "deletable": false,
    "editable": false,
    "tags": []
   },
   "outputs": [],
   "source": [
    "client = weaviate.connect_to_local(port=8079, grpc_port=50050)"
   ]
  },
  {
   "cell_type": "markdown",
   "metadata": {},
   "source": [
    "<a id='1-3'></a>\n",
    "### 1.3 Preparing the Tracing with Phoenix\n",
    "\n",
    "Now you'll load the necessary libraries and setup the telemetry to be able to add the telemetry to your ChatBot! You can learn more about tracing with Phoenix in [this ungraded lab](https://www.coursera.org/learn/retrieval-augmented-generation-rag/item/zgDvm)! Don't worry, you won't be graded in the tracing part!"
   ]
  },
  {
   "cell_type": "code",
   "execution_count": 4,
   "metadata": {
    "deletable": false,
    "editable": false
   },
   "outputs": [],
   "source": [
    "import phoenix as px\n",
    "from phoenix.otel import register\n",
    "from opentelemetry.trace import Status, StatusCode"
   ]
  },
  {
   "cell_type": "code",
   "execution_count": 5,
   "metadata": {
    "deletable": false,
    "editable": false
   },
   "outputs": [
    {
     "name": "stdout",
     "output_type": "stream",
     "text": [
      "\u001b[1mFOLLOW THIS URL TO OPEN THE UI: http://emffpxgwdflg.labs.coursera.org\u001b[0m\n",
      "🌍 To view the Phoenix app in your browser, visit http://localhost:6006/\n",
      "📖 For more information on how to use Phoenix, check out https://arize.com/docs/phoenix\n"
     ]
    }
   ],
   "source": [
    "# Launch the lab and the URL\n",
    "make_url()\n",
    "session = px.launch_app()"
   ]
  },
  {
   "cell_type": "markdown",
   "metadata": {},
   "source": [
    "<a id='1-4'></a>\n",
    "### 1.4 (Optional) Setting model cost per token\n",
    "\n",
    "This part is optional, so you can ignore it if you want to. However, here you will setup in Phoenix the two models that will be used in this assignment:\n",
    "\n",
    "- meta-llama/Llama-3.2-3B-Instruct-Turbo\n",
    "- meta-llama/Meta-Llama-3.1-8B-Instruct-Turbo\n",
    "\n",
    "Alongside with their cost per million of tokens. This will allow you to see the cost of each operation. \n",
    "\n",
    "**NOTE**: For illustration purposes, let's assume a cost of **1000 USD** per million tokens for `meta-llama/Llama-3.2-3B-Instruct-Turbo` and **2000 USD** for `meta-llama/Meta-Llama-3.1-8B-Instruct-Turbo`. The real cost per token for these models is **MUCH LOWER** than this (together.ai offers 0.08 USD per million tokens for `meta-llama/Llama-3.2-3B-Instruct-Turbo`, for instance). However, since this is a small project, a higher value will help you visualize the costs better, as you will generally be dealing with a low token usage.\n",
    "\n",
    "1. Access the settings in the UI here:"
   ]
  },
  {
   "cell_type": "code",
   "execution_count": 6,
   "metadata": {
    "deletable": false,
    "editable": false
   },
   "outputs": [
    {
     "name": "stdout",
     "output_type": "stream",
     "text": [
      "\u001b[1mFOLLOW THIS URL TO OPEN THE UI: http://emffpxgwdflg.labs.coursera.org/settings/models\u001b[0m\n"
     ]
    }
   ],
   "source": [
    "make_url(\"/settings/models\")"
   ]
  },
  {
   "cell_type": "markdown",
   "metadata": {},
   "source": [
    "![iu 1](images/settings_1.png)"
   ]
  },
  {
   "cell_type": "markdown",
   "metadata": {},
   "source": [
    "2. Then click on Add Model:\n",
    "\n",
    "![UI 1](images/create_model_1.png)\n",
    "\n",
    "3. In this page, add the following:\n",
    "\n",
    "- Model Name: meta-llama/Llama-3.2-3B-Instruct-Turbo\n",
    "- Name Pattern: meta-llama/Llama-3.2-3B-Instruct-Turbo\n",
    "- 1000 USD for input and 1000 USD for output tokens\n",
    "\n",
    "![UI 2](images/create_model_2.png)\n",
    "\n",
    "Then click in Create Model\n",
    "\n",
    "4. Again, click in create model and insert:\n",
    "\n",
    "- Model Name: meta-llama/Meta-Llama-3.1-8B-Instruct-Turbo\n",
    "- Name Pattern: meta-llama/Meta-Llama-3.1-8B-Instruct-Turbo\n",
    "- 2000 USD for input and 2000 USD for output tokens\n",
    "\n",
    "Then you're ready to go!"
   ]
  },
  {
   "cell_type": "code",
   "execution_count": 7,
   "metadata": {
    "deletable": false,
    "editable": false
   },
   "outputs": [
    {
     "name": "stdout",
     "output_type": "stream",
     "text": [
      "🔭 OpenTelemetry Tracing Details 🔭\n",
      "|  Phoenix Project: chatbot\n",
      "|  Span Processor: SimpleSpanProcessor\n",
      "|  Collector Endpoint: http://127.0.0.1:6006/v1/traces\n",
      "|  Transport: HTTP + protobuf\n",
      "|  Transport Headers: {}\n",
      "|  \n",
      "|  Using a default SpanProcessor. `add_span_processor` will overwrite this default.\n",
      "|  \n",
      "|  ⚠️ WARNING: It is strongly advised to use a BatchSpanProcessor in production environments.\n",
      "|  \n",
      "|  `register` has set this TracerProvider as the global OpenTelemetry default.\n",
      "|  To disable this behavior, call `register` with `set_global_tracer_provider=False`.\n",
      "\n"
     ]
    }
   ],
   "source": [
    "# Setting up the telemetry\n",
    "\n",
    "phoenix_project_name = \"chatbot\"\n",
    "\n",
    "# With phoenix, we just need to register to get the tracer provider with the appropriate endpoint. \n",
    "# Different from the ungraded lab, you will NOT use auto_instrument = True, as there are LLM calls not needed to be traced (examples, calls within unittests etc.)\n",
    "\n",
    "tracer_provider_phoenix = register(project_name=phoenix_project_name, endpoint=\"http://127.0.0.1:6006/v1/traces\")\n",
    "\n",
    "# Retrieve a tracer for manual instrumentation\n",
    "tracer = tracer_provider_phoenix.get_tracer(__name__)"
   ]
  },
  {
   "cell_type": "markdown",
   "metadata": {},
   "source": [
    "<a id='2'></a>\n",
    "## 2 - A Quick Recap on the Database Structure\n",
    "---\n",
    "\n",
    "Let's have a quick recap on both the FAQ and Products databases.\n",
    "\n",
    "Recall:\n",
    "- Product database: Contains the products and their information.\n",
    "- FAQ database: Contains the FAQ data."
   ]
  },
  {
   "cell_type": "markdown",
   "metadata": {},
   "source": [
    "<a id='2-1'></a>\n",
    "### 2.1 Products Database\n",
    "\n",
    "Let's explore the products database that Fashion Forward Hub has available. To make it easier to understand, let's load it as a list of JSON files first."
   ]
  },
  {
   "cell_type": "code",
   "execution_count": 8,
   "metadata": {
    "deletable": false,
    "editable": false,
    "tags": []
   },
   "outputs": [],
   "source": [
    "# Loading products data\n",
    "products_data = joblib.load('dataset/clothes_json.joblib')"
   ]
  },
  {
   "cell_type": "code",
   "execution_count": 9,
   "metadata": {
    "deletable": false,
    "editable": false,
    "tags": []
   },
   "outputs": [
    {
     "data": {
      "text/plain": [
       "{'gender': 'Men',\n",
       " 'masterCategory': 'Apparel',\n",
       " 'subCategory': 'Topwear',\n",
       " 'articleType': 'Shirts',\n",
       " 'baseColour': 'Navy Blue',\n",
       " 'season': 'Fall',\n",
       " 'year': 2011,\n",
       " 'usage': 'Casual',\n",
       " 'productDisplayName': 'Turtle Check Men Navy Blue Shirt',\n",
       " 'price': 67.0,\n",
       " 'product_id': 15970}"
      ]
     },
     "execution_count": 9,
     "metadata": {},
     "output_type": "execute_result"
    }
   ],
   "source": [
    "# Let's get one example\n",
    "products_data[0]"
   ]
  },
  {
   "cell_type": "markdown",
   "metadata": {},
   "source": [
    "The features each product has are:\n",
    "\n",
    "- **Gender:** Target audience for the product, such as \"Men,\" \"Women,\" or \"Unisex.\"\n",
    "- **Master Category:** Broad classification like \"Apparel\" or \"Footwear.\"\n",
    "- **Sub Category:** Specific category within a master category, such as \"Topwear.\"\n",
    "- **Article Type:** Exact type of product, e.g., \"Shirts\" or \"Jackets.\"\n",
    "- **Base Colour:** Main color of the product, important for customer choice.\n",
    "- **Season:** Intended season for the product, e.g., \"Summer\" or \"Winter.\"\n",
    "- **Year:** Year of release or collection.\n",
    "- **Usage:** Intended use or occasion, like \"Casual\" or \"Formal.\"\n",
    "- **Product Display Name:** Descriptive name used in marketing.\n",
    "- **Price:** Cost of the product.\n",
    "- **Product ID:** Unique identifier for managing and tracking inventory."
   ]
  },
  {
   "cell_type": "markdown",
   "metadata": {},
   "source": [
    "<a id='2-2'></a>\n",
    "### 2.2 FAQ Database\n",
    "\n",
    "Now, let's load the FAQ database and explore it."
   ]
  },
  {
   "cell_type": "code",
   "execution_count": 10,
   "metadata": {
    "deletable": false,
    "editable": false,
    "tags": []
   },
   "outputs": [],
   "source": [
    "faq = joblib.load(\"dataset/faq.joblib\")"
   ]
  },
  {
   "cell_type": "code",
   "execution_count": 11,
   "metadata": {
    "deletable": false,
    "editable": false,
    "tags": []
   },
   "outputs": [
    {
     "data": {
      "text/plain": [
       "[{'question': 'What are your store hours?',\n",
       "  'answer': 'Our online store is open 24/7. Customer service is available from 9:00 AM to 6:00 PM, Monday through Friday.',\n",
       "  'type': 'general information'},\n",
       " {'question': 'Where is Fashion Forward Hub located?',\n",
       "  'answer': 'Fashion Forward Hub is primarily an online store. Our corporate office is located at 123 Fashion Lane, Trend City, Style State.',\n",
       "  'type': 'general information'}]"
      ]
     },
     "execution_count": 11,
     "metadata": {},
     "output_type": "execute_result"
    }
   ],
   "source": [
    "# Get an example\n",
    "faq[:2]"
   ]
  },
  {
   "cell_type": "markdown",
   "metadata": {},
   "source": [
    "The FAQs are organized in a list, where each entry is a dictionary containing the following keys: `question`, `answer`, and `type`."
   ]
  },
  {
   "cell_type": "markdown",
   "metadata": {},
   "source": [
    "<a id='3'></a>\n",
    "## 3 - Recap on LLM calls and new output\n",
    "---\n",
    "\n",
    "Let's recap the previous function you used to generate prompts. Now it has been enhanced to output the full OpenAI object! This includes a several parameters that will help you trace your application.\n",
    "Recall:\n",
    "\n",
    "```Python\n",
    "generate_with_single_input(prompt: str,\n",
    "                           role: str = 'user',\n",
    "                           top_p: float = 1,\n",
    "                           temperature: float = 1,\n",
    "                           max_tokens: int = 500,\n",
    "                           model: str = \"meta-llama/Llama-3.2-3B-Instruct-Turbo\")\n",
    "```"
   ]
  },
  {
   "cell_type": "markdown",
   "metadata": {},
   "source": [
    "Let's now understand the new behavior:"
   ]
  },
  {
   "cell_type": "code",
   "execution_count": 12,
   "metadata": {
    "deletable": false,
    "editable": false,
    "tags": []
   },
   "outputs": [
    {
     "name": "stdout",
     "output_type": "stream",
     "text": [
      "{\n",
      "  \"id\": \"o5hraHh-4msxKE-96980e90fdcefa7e\",\n",
      "  \"choices\": [\n",
      "    {\n",
      "      \"finish_reason\": \"stop\",\n",
      "      \"index\": 0,\n",
      "      \"logprobs\": null,\n",
      "      \"message\": {\n",
      "        \"content\": \"The primary colors are:\\n\\n1. Red\\n2. Blue\\n3. Yellow\\n\\nThese colors cannot be created by mixing other colors together, and they are the base colors used to create all other colors.\",\n",
      "        \"refusal\": null,\n",
      "        \"role\": \"assistant\",\n",
      "        \"annotations\": null,\n",
      "        \"audio\": null,\n",
      "        \"function_call\": null,\n",
      "        \"tool_calls\": []\n",
      "      },\n",
      "      \"seed\": 17444515820048284000\n",
      "    }\n",
      "  ],\n",
      "  \"created\": 1754247616,\n",
      "  \"model\": \"meta-llama/Llama-3.2-3B-Instruct-Turbo\",\n",
      "  \"object\": \"chat.completion\",\n",
      "  \"service_tier\": null,\n",
      "  \"system_fingerprint\": null,\n",
      "  \"usage\": {\n",
      "    \"completion_tokens\": 42,\n",
      "    \"prompt_tokens\": 41,\n",
      "    \"total_tokens\": 83,\n",
      "    \"completion_tokens_details\": null,\n",
      "    \"prompt_tokens_details\": null,\n",
      "    \"cached_tokens\": 0\n",
      "  },\n",
      "  \"prompt\": []\n",
      "}\n"
     ]
    }
   ],
   "source": [
    "# The output is a dictionary containing the role and content from the LLM call, as well as the token usage.:\n",
    "result = generate_with_single_input(\"What are the primary colors?\")\n",
    "print(json.dumps(result, indent = 2))"
   ]
  },
  {
   "cell_type": "code",
   "execution_count": 13,
   "metadata": {
    "deletable": false,
    "editable": false
   },
   "outputs": [
    {
     "name": "stdout",
     "output_type": "stream",
     "text": [
      "The primary colors are:\n",
      "\n",
      "1. Red\n",
      "2. Blue\n",
      "3. Yellow\n",
      "\n",
      "These colors cannot be created by mixing other colors together, and they are the base colors used to create all other colors.\n"
     ]
    }
   ],
   "source": [
    "# To retreive the content, then you should do as follows:\n",
    "print(result['choices'][0]['message']['content'])"
   ]
  },
  {
   "cell_type": "code",
   "execution_count": 14,
   "metadata": {
    "deletable": false,
    "editable": false,
    "tags": []
   },
   "outputs": [
    {
     "name": "stdout",
     "output_type": "stream",
     "text": [
      "83\n"
     ]
    }
   ],
   "source": [
    "# The total tokens count (input + output) for this is:\n",
    "print(result['usage']['total_tokens'])"
   ]
  },
  {
   "cell_type": "markdown",
   "metadata": {},
   "source": [
    "Note that there is now a new key called `total_tokens`. Usually, LLM costs are measured by token count (both input and output)."
   ]
  },
  {
   "cell_type": "markdown",
   "metadata": {},
   "source": [
    "You may think this is a complicated way of getting the information, but this is how OpenAI structure works!"
   ]
  },
  {
   "cell_type": "markdown",
   "metadata": {},
   "source": [
    "<a id='3-1'></a>\n",
    "### 3.1 Function to generate the parameters dictionary\n",
    "\n",
    "This function was used in the previous assignment. You will also need it in this assignment."
   ]
  },
  {
   "cell_type": "code",
   "execution_count": 15,
   "metadata": {
    "deletable": false,
    "editable": false,
    "tags": [
     "graded"
    ]
   },
   "outputs": [],
   "source": [
    "def generate_params_dict(\n",
    "    prompt: str,\n",
    "    temperature: float = 1.0,\n",
    "    role: str = 'user',\n",
    "    top_p: float = 1.0,\n",
    "    max_tokens: int = 500,\n",
    "    model: str = \"meta-llama/Llama-3.2-3B-Instruct-Turbo\"\n",
    ") -> dict:\n",
    "    \"\"\"\n",
    "    Generates a dictionary of parameters for calling a Language Learning Model (LLM),\n",
    "    allowing for the customization of several key options that can affect the output from the model. \n",
    "\n",
    "    Args:\n",
    "        prompt (str): The input text that will be provided to the model to guide text generation.\n",
    "        temperature (float): A value between 0 and 1 that controls the randomness of the model's output; \n",
    "            lower values result in more repetitive and deterministic results, while higher values enhance randomness.\n",
    "        role (str): The role designation to be used in context, typically identifying the initiator of the interaction.\n",
    "        top_p (float): A value between 0 and 1 that manages diversity through the technique of nucleus sampling; \n",
    "            this parameter limits the set of considered words to the smallest possible while maintaining 'top_p' cumulative probability.\n",
    "        max_tokens (int): The maximum number of tokens that the model is allowed to generate in response, where a token can \n",
    "            be as short as one character or as long as one word.\n",
    "        model (str): The specific model identifier to be utilized for processing the request. This typically specifies both \n",
    "            the version and configuration of the LLM to be employed.\n",
    "\n",
    "    Returns:\n",
    "        dict: A dictionary containing all specified parameters which can then be used to configure and execute a call to the LLM.\n",
    "    \"\"\"\n",
    "    # Create the dictionary with the necessary parameters\n",
    "    kwargs = {\n",
    "        \"prompt\": prompt,\n",
    "        \"role\": role,\n",
    "        \"temperature\": temperature,\n",
    "        \"top_p\": top_p,\n",
    "        \"max_tokens\": max_tokens,\n",
    "        \"model\": model\n",
    "    }\n",
    "    return kwargs"
   ]
  },
  {
   "cell_type": "code",
   "execution_count": 16,
   "metadata": {
    "deletable": false,
    "editable": false,
    "tags": []
   },
   "outputs": [
    {
     "name": "stdout",
     "output_type": "stream",
     "text": [
      "{'prompt': 'Solve 3x^2 + 5 = 0', 'role': 'user', 'temperature': 1.0, 'top_p': 1.0, 'max_tokens': 500, 'model': 'meta-llama/Llama-3.2-3B-Instruct-Turbo'}\n"
     ]
    }
   ],
   "source": [
    "kwargs = generate_params_dict(\"Solve 3x^2 + 5 = 0\")\n",
    "print(kwargs)"
   ]
  },
  {
   "cell_type": "code",
   "execution_count": 17,
   "metadata": {
    "deletable": false,
    "editable": false,
    "tags": []
   },
   "outputs": [
    {
     "name": "stdout",
     "output_type": "stream",
     "text": [
      "Content: To solve the quadratic equation 3x^2 + 5 = 0, we can start by subtracting 5 from both sides:\n",
      "\n",
      "3x^2 = -5\n",
      "\n",
      "Next, we can divide both sides by 3 to isolate x^2:\n",
      "\n",
      "x^2 = -5/3\n",
      "\n",
      "Since the square of any real number cannot be negative, we know that this equation has no real solutions.\n",
      "\n",
      "Total Tokens: 132\n"
     ]
    }
   ],
   "source": [
    "# Now you can call the LLM \n",
    "result = generate_with_single_input(**kwargs)\n",
    "content = result['choices'][0]['message']['content']\n",
    "total_tokens = result['usage']['total_tokens']\n",
    "print(f\"Content: {content}\\n\\nTotal Tokens: {total_tokens}\")"
   ]
  },
  {
   "cell_type": "markdown",
   "metadata": {},
   "source": [
    "<a id='4'></a>\n",
    "## 4 - Improving task handling\n",
    "---\n",
    "\n",
    "<a id='4-1'></a>\n",
    "### 4.1 Refactoring the function to decide whether it is an FAQ or product-related question\n"
   ]
  },
  {
   "cell_type": "markdown",
   "metadata": {
    "tags": []
   },
   "source": [
    "This is the previous function you built to check if a query is related to FAQs or Products. Now, there are two main changes:\n",
    "\n",
    "1. It now returns the total number of tokens used in the process (including both the input and output of the LLM) — this value is already given to you.\n",
    "2. It has a new parameter called `simplified`. If `True`, it uses a shorter prompt — that’s your task in this exercise.\n",
    "\n",
    "<a id='ex01'></a>\n",
    "\n",
    "<a id='ex01'></a>\n",
    "### Exercise 1\n",
    "\n",
    "---\n",
    "\n",
    "In this exercise, you need to improve the prompt that checks whether a query is FAQ-related or Product-related. The new prompt must use less than 180 tokens in total. It also needs to keep the same classification accuracy for the test set below — that means it must give the same result for each query.\n",
    "\n",
    "<details>\n",
    "    <summary style=\"color: green;\"><strong>Hint 1</strong></summary>\n",
    "Try making the text shorter and removing some examples. Make sure to include the user query in the prompt.\n",
    "</details>\n",
    "\n",
    "<details>\n",
    "    <summary style=\"color: green;\"><strong>Hint 2</strong></summary>\n",
    "If your prompt doesn’t work for a specific query, consider adding that query (or a more difficult version of it) as an example. The better you handle tricky cases, the more reliable your prompt will be.\n",
    "</details>\n"
   ]
  },
  {
   "cell_type": "code",
   "execution_count": 18,
   "metadata": {
    "deletable": false,
    "editable": true,
    "tags": [
     "graded"
    ]
   },
   "outputs": [],
   "source": [
    "# GRADED CELL \n",
    "def check_if_faq_or_product(query, simplified = False):\n",
    "    \"\"\"\n",
    "    Determines whether a given instruction prompt is related to a frequently asked question (FAQ) or a product inquiry.\n",
    "\n",
    "    Parameters:\n",
    "    - query (str): The instruction or query that needs to be labeled as either FAQ or Product related.\n",
    "    - simplified (bool): If True, uses a simplified prompt.\n",
    "\n",
    "    Returns:\n",
    "    - str: The label 'FAQ' if the prompt is deemed a frequently asked question, 'Product' if it is related to product information, or\n",
    "      None if the label is inconclusive.\n",
    "    \"\"\"\n",
    " \n",
    "    # If not simplified, uses a more complex prompt\n",
    "    if not simplified:\n",
    "        PROMPT = f\"\"\"Label the following instruction as an FAQ related answer or a product related answer for a clothing store.\n",
    "        Product related answers are answers specific about product information or that needs to use the products to give an answer.\n",
    "        Examples:\n",
    "                Is there a refund for incorrectly bought clothes? Label: FAQ\n",
    "                Where are your stores located?: Label: FAQ\n",
    "                Tell me about the cheapest T-shirts that you have. Label: Product\n",
    "                Do you have blue T-shirts under 100 dollars? Label: Product\n",
    "                What are the available sizes for the t-shirts? Label: FAQ\n",
    "                How can I contact you via phone? Label: FAQ\n",
    "                How can I find the promotions? Label: FAQ\n",
    "                Give me ideas for a sunny look. Label: Product\n",
    "        Return only one of the two labels: FAQ or Product, nothing more.\n",
    "        Query to classify: {query}\n",
    "                 \"\"\"\n",
    "\n",
    "    ##############################################\n",
    "    ######### GRADED PART STARTS HERE ############\n",
    "    ##############################################\n",
    "    \n",
    "    ### START CODE HERE ###\n",
    "\n",
    "    # If simlpified, uses a simplified prompt.\n",
    "    else:\n",
    "        PROMPT = f\"\"\"Label the following instruction as an FAQ related answer or a product related answer for a clothing store.\n",
    "        Product related answers are answers specific about product information or that needs to use the products to give an answer.\n",
    "        Examples:\n",
    "                Is there a refund for incorrectly bought clothes? Label: FAQ\n",
    "                Where are your stores located?: Label: FAQ\n",
    "                Tell me about the cheapest T-shirts that you have. Label: Product\n",
    "                Do you have blue T-shirts under 100 dollars? Label: Product\n",
    "        Return only one of the two labels: FAQ or Product, nothing more.\n",
    "        Query to classify: {query}\n",
    "                 \"\"\"\n",
    "\n",
    "        \n",
    "    ### END CODE HERE ###\n",
    "\n",
    "    ##############################################\n",
    "    ######### GRADED PART ENDS HERE ############\n",
    "    ##############################################\n",
    "        \n",
    "    with tracer.start_as_current_span(\"routing_faq_or_product\", openinference_span_kind = 'tool') as span:\n",
    "        span.set_input(str({\"query\":query, \"simplified\": simplified}))\n",
    "        \n",
    "        # Get the kwargs dictinary to call the llm, with PROMPT as prompt, low temperature (0 or near 0) and max_tokens = 10\n",
    "        kwargs = generate_params_dict(PROMPT, temperature = 0, max_tokens = 10)\n",
    "\n",
    "        # Call generate_with_single_input with **kwargs\n",
    "        with tracer.start_as_current_span(\"router_call\", openinference_span_kind = 'llm') as router_span:\n",
    "            router_span.set_input(kwargs)\n",
    "            try:\n",
    "                response = generate_with_single_input(**kwargs) \n",
    "            except Exception as error:\n",
    "                router_span.record_exception(error)\n",
    "                router_span.set_status(Status(StatusCode.ERROR))\n",
    "            else:\n",
    "                # OpenInference Semantic Conventions for computing Costs\n",
    "                router_span.set_attribute(\"llm.token_count.prompt\", response['usage']['prompt_tokens'])\n",
    "                router_span.set_attribute(\"llm.token_count.completion\", response['usage']['completion_tokens'])\n",
    "                router_span.set_attribute(\"llm.token_count.total\", response['usage']['total_tokens'])\n",
    "                router_span.set_attribute(\"llm.model_name\", response['model'])\n",
    "                router_span.set_attribute(\"llm.provider\", 'together.ai')\n",
    "                router_span.set_output(response)\n",
    "                router_span.set_status(Status(StatusCode.OK))\n",
    "        \n",
    "    \n",
    "        # Get the Label by accessing the content key of the response dictionary\n",
    "        label = response['choices'][0]['message']['content']\n",
    "        total_tokens = response['usage']['total_tokens']\n",
    "        span.set_output(str({\"label\": label, 'total_tokens':total_tokens}))\n",
    "        span.set_status(Status(StatusCode.OK))\n",
    "\n",
    "        # Improvement to prevent cases where LLM outputs more than one word\n",
    "        if 'faq' in label.lower():\n",
    "            label = 'FAQ'\n",
    "        elif 'product' in label.lower():\n",
    "            label = 'Product'\n",
    "        else:\n",
    "            label = 'undefined'\n",
    "    \n",
    "        return label, total_tokens"
   ]
  },
  {
   "cell_type": "code",
   "execution_count": 20,
   "metadata": {
    "deletable": false,
    "editable": false,
    "tags": []
   },
   "outputs": [
    {
     "name": "stdout",
     "output_type": "stream",
     "text": [
      "\u001b[91mFailed test case: Incorrect label for query=What is your return policy?.\n",
      "Expected: FAQ\n",
      "Got: Product\n",
      "\n",
      "\u001b[91mFailed test case: Incorrect label for query=How can I contact the user support?.\n",
      "Expected: FAQ\n",
      "Got: Product\n",
      "\n",
      "\n"
     ]
    }
   ],
   "source": [
    "unittests.test_check_if_faq_or_product(check_if_faq_or_product)"
   ]
  },
  {
   "cell_type": "markdown",
   "metadata": {},
   "source": [
    "Let's test both versions:"
   ]
  },
  {
   "cell_type": "code",
   "execution_count": 21,
   "metadata": {
    "deletable": false,
    "editable": false,
    "tags": []
   },
   "outputs": [
    {
     "name": "stdout",
     "output_type": "stream",
     "text": [
      "Query: What is your return policy?\n",
      "  Standard    → Label: \u001b[32mFAQ\u001b[0m | Tokens: \u001b[31m218\u001b[0m\n",
      "  Simplified  → Label: \u001b[31mProduct\u001b[0m | Tokens: \u001b[32m165\u001b[0m\n",
      "\n",
      "Query: Give me three examples of blue T-shirts you have available.\n",
      "  Standard    → Label: \u001b[32mProduct\u001b[0m | Tokens: \u001b[31m224\u001b[0m\n",
      "  Simplified  → Label: \u001b[32mProduct\u001b[0m | Tokens: \u001b[32m171\u001b[0m\n",
      "\n",
      "Query: How can I contact the user support?\n",
      "  Standard    → Label: \u001b[32mFAQ\u001b[0m | Tokens: \u001b[31m220\u001b[0m\n",
      "  Simplified  → Label: \u001b[31mProduct\u001b[0m | Tokens: \u001b[32m167\u001b[0m\n",
      "\n",
      "Query: Do you have blue Dresses?\n",
      "  Standard    → Label: \u001b[32mProduct\u001b[0m | Tokens: \u001b[31m218\u001b[0m\n",
      "  Simplified  → Label: \u001b[32mProduct\u001b[0m | Tokens: \u001b[32m165\u001b[0m\n",
      "\n",
      "Query: Create a look suitable for a wedding party happening during dawn.\n",
      "  Standard    → Label: \u001b[32mProduct\u001b[0m | Tokens: \u001b[31m224\u001b[0m\n",
      "  Simplified  → Label: \u001b[32mProduct\u001b[0m | Tokens: \u001b[32m171\u001b[0m\n",
      "\n"
     ]
    }
   ],
   "source": [
    "queries = [\n",
    "    'What is your return policy?', \n",
    "    'Give me three examples of blue T-shirts you have available.', \n",
    "    'How can I contact the user support?', \n",
    "    'Do you have blue Dresses?',\n",
    "    'Create a look suitable for a wedding party happening during dawn.'\n",
    "]\n",
    "\n",
    "labels = ['FAQ', 'Product', 'FAQ', 'Product', 'Product']\n",
    "\n",
    "for query, correct_label in zip(queries, labels):\n",
    "    # Call check_if_faq_or_product and store the results\n",
    "    response_std, tokens_std = check_if_faq_or_product(query, simplified=False)\n",
    "    response_simp, tokens_simp = check_if_faq_or_product(query, simplified=True)\n",
    "    \n",
    "    # Print results\n",
    "    process_and_print_query(query, correct_label, response_std, tokens_std, response_simp, tokens_simp)"
   ]
  },
  {
   "cell_type": "markdown",
   "metadata": {},
   "source": [
    "<a id='4-2'></a>\n",
    "### 4.2 Answering a FAQ question\n",
    "\n",
    "Let's recap how to generate the FAQ layout. This won't be touched in this assignment. This function, given a list of dictionaries with the FAQ questions, returns a formatted string with the question/answer pairs."
   ]
  },
  {
   "cell_type": "code",
   "execution_count": 22,
   "metadata": {
    "deletable": false,
    "editable": false,
    "tags": [
     "graded"
    ]
   },
   "outputs": [],
   "source": [
    "@tracer.tool\n",
    "def generate_faq_layout(faq_dict):\n",
    "    \"\"\"\n",
    "    Generates a formatted string layout for a list of FAQs.\n",
    "\n",
    "    This function iterates through a dictionary of frequently asked questions (FAQs) and constructs\n",
    "    a string where each question is followed by its corresponding answer and type.\n",
    "\n",
    "    Parameters:\n",
    "    - faq_dict (list): A list of dictionaries, each containing keys 'question', 'answer', and 'type' \n",
    "      representing an FAQ entry.\n",
    "\n",
    "    Returns:\n",
    "    - str: A string representing the formatted layout of FAQs, with each entry on a separate line.\n",
    "    \"\"\"\n",
    "    # Initialize an empty string\n",
    "    t = \"\"\n",
    "    \n",
    "    # Iterate over every FAQ question in the FAQ list\n",
    "    for f in faq_dict:\n",
    "        # Append the question with formatted string (remember to use f-string and access the values as f['question'], f['answer'] and so on)\n",
    "        # Also, do not forget to add a new line character (\\n) at the end of each line.\n",
    "        t += f\"Question: {f['question']} Answer: {f['answer']} Type: {f['type']}\\n\" \n",
    "\n",
    "    return t"
   ]
  },
  {
   "cell_type": "code",
   "execution_count": 23,
   "metadata": {
    "deletable": false,
    "editable": false,
    "tags": []
   },
   "outputs": [
    {
     "name": "stdout",
     "output_type": "stream",
     "text": [
      "Question: What are your store hours? Answer: Our online store is open 24/7. Customer service is available from 9:00 AM to 6:00 PM, Monday through Friday. Type: general information\n",
      "Question: Where is Fashion Forward Hub located? Answer: Fashion Forward Hub is primarily an online store. Our corporate office is located at 123 Fashion Lane, Trend City, Style State. Type: general information\n",
      "Question: Do you have a physical store location? Answer: At this time, we operate exclusively online. This allows us to offer a broader selection and lower prices directly to you. Type: general information\n",
      "Question: How can I create an account with Fashion Forward Hub? Answer: Click on 'Sign Up' in the top right corner of our website and follow the instructions to set up your account. Type: general information\n",
      "Question: How do I subscribe to your newsletter? Answer: To receive the latest updates and promotions, sign up for our newsletter at the bottom of our homepage. Type: general information\n",
      "Question:\n"
     ]
    }
   ],
   "source": [
    "# You can generate a full faq_layout with the entire FAQ questions\n",
    "faq_layout = generate_faq_layout(faq)\n",
    "print(faq_layout[:1000])"
   ]
  },
  {
   "cell_type": "code",
   "execution_count": 24,
   "metadata": {
    "deletable": false,
    "editable": false,
    "tags": []
   },
   "outputs": [
    {
     "name": "stdout",
     "output_type": "stream",
     "text": [
      "Question: Where is Fashion Forward Hub located? Answer: Fashion Forward Hub is primarily an online store. Our corporate office is located at 123 Fashion Lane, Trend City, Style State. Type: general information\n",
      "\n"
     ]
    }
   ],
   "source": [
    "# You can choose some faq questions and generate a layout from them. \n",
    "# They just need to be in a list with dictionaries with the necessary keys: 'question', 'answer' and 'type'\n",
    "print(generate_faq_layout(faq[1:2]))"
   ]
  },
  {
   "cell_type": "markdown",
   "metadata": {},
   "source": [
    "<a id='4-3'></a>\n",
    "### 4.3 Querying on FAQ\n",
    "\n",
    "In the previous assignment, the entire FAQ was added in the query. This approach is useful to provide the entire information to the LLM, but it significantly increases token usage and execution time. Now that you are refining your chatbot, it's time to use a more efficient collection to handle it! Let's load the collection."
   ]
  },
  {
   "cell_type": "code",
   "execution_count": 25,
   "metadata": {
    "deletable": false,
    "editable": false,
    "tags": []
   },
   "outputs": [],
   "source": [
    "faq_collection = client.collections.get(\"Faq\")"
   ]
  },
  {
   "cell_type": "markdown",
   "metadata": {
    "tags": []
   },
   "source": [
    "Let's add the FAQ questions into a collection."
   ]
  },
  {
   "cell_type": "code",
   "execution_count": 26,
   "metadata": {
    "deletable": false,
    "editable": false,
    "tags": []
   },
   "outputs": [
    {
     "name": "stderr",
     "output_type": "stream",
     "text": [
      "100%|██████████| 25/25 [00:00<00:00, 18016.77it/s]\n"
     ]
    }
   ],
   "source": [
    "from tqdm import tqdm\n",
    "from weaviate.util import generate_uuid5\n",
    "# Set up a batch process with specified fixed size and concurrency\n",
    "with faq_collection.batch.fixed_size(batch_size=20, concurrent_requests=5) as batch:\n",
    "    # Iterate over a subset of the dataset\n",
    "    for document in tqdm(faq):\n",
    "        # Generate a UUID based on the chunk text for unique identification\n",
    "        uuid = generate_uuid5(document['question'])\n",
    "\n",
    "        # Add the chunk object to the batch with properties and UUID\n",
    "        batch.add_object(\n",
    "            properties=document,\n",
    "            uuid=uuid,\n",
    "        )"
   ]
  },
  {
   "cell_type": "markdown",
   "metadata": {
    "tags": []
   },
   "source": [
    "Now you can query them! Let's go over an example."
   ]
  },
  {
   "cell_type": "code",
   "execution_count": 27,
   "metadata": {
    "deletable": false,
    "editable": false,
    "tags": []
   },
   "outputs": [],
   "source": [
    "res = faq_collection.query.near_text(\"What is the return policy?\", limit = 5)"
   ]
  },
  {
   "cell_type": "code",
   "execution_count": 28,
   "metadata": {
    "deletable": false,
    "editable": false,
    "tags": []
   },
   "outputs": [
    {
     "name": "stdout",
     "output_type": "stream",
     "text": [
      "{\n",
      "  \"answer\": \"We accept returns within 30 days of delivery. Conditions apply for specific categories like accessories.\",\n",
      "  \"question\": \"What is your return policy timeframe?\",\n",
      "  \"type\": \"returns and exchanges\"\n",
      "}\n",
      "{\n",
      "  \"answer\": \"Sale items are final sale and cannot be returned or exchanged, unless stated otherwise.\",\n",
      "  \"question\": \"Can I return a sale item?\",\n",
      "  \"type\": \"returns and exchanges\"\n",
      "}\n",
      "{\n",
      "  \"answer\": \"Return processing typically takes 5-7 business days from when the item is received at our warehouse.\",\n",
      "  \"question\": \"How long does it take to process a return?\",\n",
      "  \"type\": \"returns and exchanges\"\n",
      "}\n",
      "{\n",
      "  \"answer\": \"We provide a prepaid return label for domestic returns. For international returns, shipping is at the customer's cost.\",\n",
      "  \"question\": \"Are return shipping costs covered?\",\n",
      "  \"type\": \"returns and exchanges\"\n",
      "}\n",
      "{\n",
      "  \"answer\": \"Initiate an exchange through our Returns Center, selecting the item you wish to exchange and the desired replacement.\",\n",
      "  \"question\": \"How do I exchange an item?\",\n",
      "  \"type\": \"returns and exchanges\"\n",
      "}\n"
     ]
    }
   ],
   "source": [
    "for obj in res.objects:\n",
    "    print_properties(obj)"
   ]
  },
  {
   "cell_type": "markdown",
   "metadata": {},
   "source": [
    "<a id='ex02'></a>\n",
    "\n",
    "<a id='ex02'></a>\n",
    "### Exercise 2\n",
    "---\n",
    "\n",
    "Below is the function used to answer a FAQ question.\n",
    "**It will only run if the question is already labeled as a FAQ.**\n",
    "You’ve seen this question in a previous assignment, but now there’s one change:\n",
    "\n",
    "1. A new parameter called `simplified` was added.\n",
    "   This controls whether the function uses the full `faq` list or a smaller selection from it.\n",
    "   If `simplified` is `True`, you should run a semantic search on the FAQ collection and use only the top 5 results.\n",
    "\n",
    "That’s your task in this exercise.\n",
    "\n",
    "Your solution must return **fewer than 500 tokens** for the query below.\n",
    "\n",
    "<details>\n",
    "    <summary style=\"color: green;\"><strong>Hint 1</strong></summary>\n",
    "To run a semantic search on the Weaviate database (Module 3), use:  \n",
    "<code>faq_collection.query.near_text(query, limit=5)</code>\n",
    "</details>\n",
    "\n",
    "<details>\n",
    "    <summary style=\"color: green;\"><strong>Hint 2</strong></summary>\n",
    "    Don’t forget to call <code>generate_faq_layout()</code> with the result list as its argument.\n",
    "</details>"
   ]
  },
  {
   "cell_type": "code",
   "execution_count": 39,
   "metadata": {
    "deletable": false,
    "editable": true,
    "tags": [
     "graded"
    ]
   },
   "outputs": [],
   "source": [
    "# GRADED CELL \n",
    "\n",
    "def query_on_faq(query, simplified = False, **kwargs):\n",
    "    \"\"\"\n",
    "    Constructs a prompt to query an FAQ system and generates a response.\n",
    "\n",
    "    This function integrates an FAQ layout into the prompt to help generate a suitable answer to the given query\n",
    "    using a language model. It supports additional keyword arguments to customize the prompt generation process.\n",
    "\n",
    "    Parameters:\n",
    "    - query (str): The query about which the function seeks to provide an answer from the FAQ.\n",
    "    - simplified (bool): If True, uses semantic search to extract a relevant subset of FAQ questions\n",
    "    - **kwargs: Optional keyword arguments for extra configuration of prompt parameters.\n",
    "\n",
    "    Returns:\n",
    "    - str: The response generated from the language model based on the input query and FAQ layout.\n",
    "\n",
    "    \"\"\"\n",
    "\n",
    "    \n",
    "    # If not simplified, generate the faq layout with the entire FAQ questions\n",
    "    if not simplified:\n",
    "        # Set the tracer as a chain type, since in non-simplified version, the full FAQ is used\n",
    "        with tracer.start_as_current_span(\"query_on_faq\", openinference_span_kind=\"tool\") as span:\n",
    "            \n",
    "            span.set_input({\"query\": query, \"simplified\": simplified})\n",
    "            faq_layout = generate_faq_layout(faq)\n",
    "            \n",
    "            # Generate the prompt\n",
    "            PROMPT = f\"\"\"You will be provided with an FAQ for a clothing store. \n",
    "        Answer the instruction based on it. You might use more than one question and answer to make your answer. Only answer the question and do not mention that you have access to a FAQ. \n",
    "        <FAQ_ITEMS>\n",
    "        PROVIDED FAQ: {faq_layout}\n",
    "        </FAQ_ITEMS>\n",
    "        Question: {query}\n",
    "            \"\"\" \n",
    "            span.set_attribute(\"prompt\", PROMPT)\n",
    "\n",
    "            # Generate the parameters dict with PROMPT and **kwargs \n",
    "            kwargs = generate_params_dict(PROMPT, **kwargs) \n",
    "\n",
    "            span.set_attribute(\"output\", str(kwargs))\n",
    "            span.set_status(Status(StatusCode.OK))\n",
    "    \n",
    "            return kwargs\n",
    "        \n",
    "   \n",
    "    \n",
    "    else:\n",
    "        with tracer.start_as_current_span(\"query_on_faq\", openinference_span_kind=\"tool\") as span:\n",
    "            span.set_input({\"query\": query, \"simplified\": simplified})\n",
    "            with tracer.start_as_current_span(\"retrieve_faq_questions\", openinference_span_kind=\"retriever\") as retrieve_span:\n",
    "                \n",
    "                ##############################################\n",
    "                ######### GRADED PART STARTS HERE ############\n",
    "                ##############################################\n",
    "                \n",
    "                ### START CODE HERE ###\n",
    "                \n",
    "                # Get the 5 most relevant FAQ objects, in this case limit = None\n",
    "                results = faq_collection.query.near_text(query, limit=5)\n",
    "\n",
    "                ### END CODE HERE ###\n",
    "\n",
    "                ##############################################\n",
    "                ######### GRADED PART ENDS HERE ##############\n",
    "                ##############################################\n",
    "                \n",
    "                # Set the retrieved documents as attributes on the span\n",
    "                for i, document in enumerate(results.objects): \n",
    "                    retrieve_span.set_attribute(f\"retrieval.documents.{i}.document.id\", str(document.uuid)) \n",
    "                    retrieve_span.set_attribute(f\"retrieval.documents.{i}.document.metadata\", str(document.metadata)) \n",
    "                    retrieve_span.set_attribute( \n",
    "                        f\"retrieval.documents.{i}.document.content\", str(document.properties) \n",
    "                    )  \n",
    "            # Transform the results in a list of dictionary\n",
    "                results = [x.properties for x in results.objects] \n",
    "                # Reverse the order to add the most relevant objects in the bottom, so it gets closer to the end of the input\n",
    "                results.reverse() \n",
    "                # Generate the faq layout with the new list of FAQ questions `results`\n",
    "                faq_layout = generate_faq_layout(results) \n",
    "\n",
    "            # Different prompt to deal with this new scenario. \n",
    "            PROMPT = (f\"You will be provided with a query for a clothing store regarding FAQ. It will be provided relevant FAQ from the clothing store.\" \n",
    "        f\"Answer the query based on the relevant FAQ provided. They are ordered in decreasing relevance, so the first is the most relevant FAQ and the last is the least relevant.\"  \n",
    "        f\"Answer the instruction based on them. You might use more than one question and answer to make your answer. Only answer the question and do not mention that you have access to a FAQ.\\n\"  \n",
    "        f\"<FAQ>\\n\"  \n",
    "        f\"RELEVANT FAQ ITEMS:\\n{faq_layout}\\n\"  \n",
    "        f\"</FAQ>\\n\" \n",
    "        f\"Query: {query}\")\n",
    "\n",
    "    \n",
    "        \n",
    "            span.set_attribute(\"prompt\", PROMPT)\n",
    "        \n",
    "            # Generate the parameters dict with PROMPT and **kwargs \n",
    "            kwargs = generate_params_dict(PROMPT, **kwargs) \n",
    "        \n",
    "            span.set_attribute(\"output\", str(kwargs))\n",
    "            span.set_status(Status(StatusCode.OK))\n",
    "    \n",
    "            return kwargs"
   ]
  },
  {
   "cell_type": "code",
   "execution_count": 40,
   "metadata": {
    "deletable": false,
    "editable": false,
    "tags": []
   },
   "outputs": [
    {
     "name": "stdout",
     "output_type": "stream",
     "text": [
      "\u001b[92m All tests passed!\n"
     ]
    }
   ],
   "source": [
    "unittests.test_query_on_faq(query_on_faq)"
   ]
  },
  {
   "cell_type": "code",
   "execution_count": 41,
   "metadata": {
    "deletable": false,
    "editable": false,
    "tags": []
   },
   "outputs": [],
   "source": [
    "# Get the dictionary of arguments\n",
    "kwargs = query_on_faq(\"I received the dress I ordered but I don't like it. How can I return it?\")"
   ]
  },
  {
   "cell_type": "code",
   "execution_count": 42,
   "metadata": {
    "deletable": false,
    "editable": false,
    "tags": []
   },
   "outputs": [
    {
     "name": "stdout",
     "output_type": "stream",
     "text": [
      "788\n"
     ]
    }
   ],
   "source": [
    "# The number of split tokens in this prompt is:\n",
    "print(len(kwargs['prompt'].split()))"
   ]
  },
  {
   "cell_type": "markdown",
   "metadata": {},
   "source": [
    "Note: The number mentioned above doesn’t match the exact token count the model will use. Tokenization is more complex than just splitting by words, so the actual count might be higher. Still, this gives you a rough idea of the text size and is useful for comparison."
   ]
  },
  {
   "cell_type": "code",
   "execution_count": 43,
   "metadata": {
    "deletable": false,
    "editable": false,
    "tags": []
   },
   "outputs": [],
   "source": [
    "# Run the inference\n",
    "result = generate_with_single_input(**kwargs)"
   ]
  },
  {
   "cell_type": "markdown",
   "metadata": {},
   "source": [
    "Let's check the content without the simplified version:"
   ]
  },
  {
   "cell_type": "code",
   "execution_count": 44,
   "metadata": {
    "deletable": false,
    "editable": false,
    "tags": []
   },
   "outputs": [
    {
     "name": "stdout",
     "output_type": "stream",
     "text": [
      "To initiate a return, please follow these steps:\n",
      "\n",
      "1. Go to our Returns Center at the bottom of the webpage.\n",
      "2. Select the order containing the item you wish to return and the item itself.\n",
      "3. Choose the reason for return (if applicable) and click 'Continue.'\n",
      "4. You will be provided with a prepaid return label, which can be printed and attached to the outside of your return package. If you are shipping internationally, please note that you are responsible for the return shipping costs.\n",
      "\n",
      "Once we receive your returned item, we will process your refund or exchange according to the original payment method and the conditions stated for the specific category of the item being returned.\n"
     ]
    }
   ],
   "source": [
    "print(result['choices'][0]['message']['content'])"
   ]
  },
  {
   "cell_type": "code",
   "execution_count": 45,
   "metadata": {
    "deletable": false,
    "editable": false,
    "tags": []
   },
   "outputs": [
    {
     "name": "stdout",
     "output_type": "stream",
     "text": [
      "1190\n"
     ]
    }
   ],
   "source": [
    "# Get the total tokens\n",
    "print(result['usage']['total_tokens'])"
   ]
  },
  {
   "cell_type": "markdown",
   "metadata": {},
   "source": [
    "Note that for one query, the total tokens is around 1220.\n",
    "\n",
    "Now let's check the simplified version."
   ]
  },
  {
   "cell_type": "code",
   "execution_count": 46,
   "metadata": {
    "deletable": false,
    "editable": false,
    "tags": []
   },
   "outputs": [],
   "source": [
    "# Get the dictionary of arguments\n",
    "kwargs = query_on_faq(\"I received the dress I ordered but I don't like it. How can I return it?\", simplified = True)"
   ]
  },
  {
   "cell_type": "code",
   "execution_count": 47,
   "metadata": {
    "deletable": false,
    "editable": false,
    "tags": []
   },
   "outputs": [
    {
     "name": "stdout",
     "output_type": "stream",
     "text": [
      "250\n"
     ]
    }
   ],
   "source": [
    "# The number of split tokens in this prompt is:\n",
    "print(len(kwargs['prompt'].split()))"
   ]
  },
  {
   "cell_type": "code",
   "execution_count": 48,
   "metadata": {
    "deletable": false,
    "editable": false,
    "tags": []
   },
   "outputs": [],
   "source": [
    "# Run the inference\n",
    "result = generate_with_single_input(**kwargs)"
   ]
  },
  {
   "cell_type": "code",
   "execution_count": 49,
   "metadata": {
    "deletable": false,
    "editable": false,
    "tags": []
   },
   "outputs": [
    {
     "name": "stdout",
     "output_type": "stream",
     "text": [
      "You can initiate a return through our Returns Center. Select the dress you wish to return and the option for a return. We will provide a prepaid return label for domestic returns. For your convenience, our Returns Center can guide you through the rest of the process.\n"
     ]
    }
   ],
   "source": [
    "print(result['choices'][0]['message']['content'])"
   ]
  },
  {
   "cell_type": "code",
   "execution_count": 50,
   "metadata": {
    "deletable": false,
    "editable": false,
    "tags": []
   },
   "outputs": [
    {
     "name": "stdout",
     "output_type": "stream",
     "text": [
      "400\n"
     ]
    }
   ],
   "source": [
    "# Get the total tokens\n",
    "print(result['usage']['total_tokens'])"
   ]
  },
  {
   "cell_type": "markdown",
   "metadata": {},
   "source": [
    "Note that the answer is still correct and the final token count is way smaller!"
   ]
  },
  {
   "cell_type": "markdown",
   "metadata": {},
   "source": [
    "<a id='4-4'></a>\n",
    "\n",
    "<a id='4-4'></a>\n",
    "### 4.4 Improving the Decision Between Creative or Technical Product Queries\n",
    "\n",
    "<a id='ex03'></a>\n",
    "\n",
    "<a id='ex03'></a>\n",
    "### Exercise 3\n",
    "\n",
    "---\n",
    "\n",
    "This task is similar to what you did when deciding whether a query was about a product or a FAQ. The goal is the same: reduce token usage while keeping good accuracy.\n",
    "\n",
    "This function has two updates compared to the previous version:\n",
    "\n",
    "1. It now returns the total number of tokens used during processing.\n",
    "2. It includes a new argument called `simplified`.\n",
    "\n",
    "Your solution must meet both of the following conditions:\n",
    "\n",
    "* Accuracy of at least **80%** on the test set (you can get **at most one** question wrong).\n",
    "* Use **fewer than 150 tokens** for **every** query.\n",
    "\n",
    "<details>\n",
    "    <summary style=\"color: green;\"><strong>Hint 1</strong></summary>\n",
    "Try shortening the examples and removing any that aren’t essential. Don’t forget to include the query in the prompt!\n",
    "</details>\n",
    "\n",
    "<details>\n",
    "    <summary style=\"color: green;\"><strong>Hint 2</strong></summary>\n",
    "If your prompt struggles with a particular query, try adding it—or a more challenging version of it—as an example. The more difficult edge cases you cover, the better the model will perform.\n",
    "</details>"
   ]
  },
  {
   "cell_type": "code",
   "execution_count": 52,
   "metadata": {
    "deletable": false,
    "editable": true,
    "tags": [
     "graded"
    ]
   },
   "outputs": [],
   "source": [
    "# GRADED CELL \n",
    "def decide_task_nature(query, simplified = True):\n",
    "    \"\"\"\n",
    "    Determines the nature of a query, labeling it as either creative or technical.\n",
    "\n",
    "    This function constructs a prompt for a language model to decide if a given query requires a creative response,\n",
    "    such as making suggestions or composing ideas, or a technical response, like providing product details or prices.\n",
    "\n",
    "    Parameters:\n",
    "    - query (str): The query to be evaluated for its nature.\n",
    "    - simplified (bool): If True, uses a simplified prompt.\n",
    "\n",
    "    Returns:\n",
    "    - str: The label 'creative' if the query requires creative input, or 'technical' if it requires technical information.\n",
    "    \"\"\"\n",
    "\n",
    "\n",
    "    \n",
    "    if not simplified:\n",
    "        PROMPT = f\"\"\"Decide if the following query is a query that requires creativity (creating, composing, making new things) or technical (information about products, prices etc.). Label it as creative or technical.\n",
    "          Examples:\n",
    "          Give me suggestions on a nice look for a nightclub. Label: creative\n",
    "          What are the blue dresses you have available? Label: technical\n",
    "          Give me three Tshirts for summer. Label: technical\n",
    "          Give me a look for attending a wedding party. Label: creative\n",
    "          Give me suggestions on clothes that match a green Tshirt. Label: creative\n",
    "          I would like a suggestion on which products match a green Tshirt I already have. Label: creative\n",
    "\n",
    "          Query to be analyzed: {query}. Only output one token with the label\n",
    "          \"\"\"\n",
    "\n",
    "    # If simplified, uses a simplified query\n",
    "\n",
    "    ##############################################\n",
    "    ######### GRADED PART STARTS HERE ############\n",
    "    ##############################################\n",
    "\n",
    "    ### START CODE HERE ###\n",
    "\n",
    "    else:\n",
    "        PROMPT = f\"\"\"Decide if the following query is a query that requires creativity (creating, composing, making new things) or technical (information about products, prices etc.). Label it as creative or technical.\n",
    "          Examples:\n",
    "          Give me suggestions on a nice look for a nightclub. Label: creative\n",
    "          What are the blue dresses you have available? Label: technical\n",
    "          Query to be analyzed: {query}. Only output one token with the label\n",
    "          \"\"\"\n",
    "\n",
    "    ### END CODE HERE ###\n",
    "\n",
    "    ##############################################\n",
    "    ######### GRADED PART ENDS HERE ##############\n",
    "    ##############################################\n",
    "\n",
    "    \n",
    "    with tracer.start_as_current_span(\"decide_task_nature\", openinference_span_kind=\"tool\") as span:\n",
    "    # Generate the kwards dictionary by passing the PROMPT, low temperature and max_tokens = 1\n",
    "        span.set_input({\"query\":query, \"simplified\": simplified})\n",
    "        kwargs = generate_params_dict(PROMPT, temperature = 0, max_tokens = 1)\n",
    "\n",
    "        with tracer.start_as_current_span(\"router_call\", openinference_span_kind = 'llm') as router_span:\n",
    "            router_span.set_input(kwargs)\n",
    "            try:\n",
    "                response = generate_with_single_input(**kwargs) \n",
    "            except Exception as error:\n",
    "                router_span.record_exception(error)\n",
    "                router_span.set_status(Status(StatusCode.ERROR))\n",
    "            else:\n",
    "                # OpenInference Semantic Conventions for computing Costs\n",
    "                router_span.set_attribute(\"llm.token_count.prompt\", response['usage']['prompt_tokens'])\n",
    "                router_span.set_attribute(\"llm.token_count.completion\", response['usage']['completion_tokens'])\n",
    "                router_span.set_attribute(\"llm.token_count.total\", response['usage']['total_tokens'])\n",
    "                router_span.set_attribute(\"llm.model_name\", response['model'])\n",
    "                router_span.set_attribute(\"llm.provider\", 'together.ai')\n",
    "                router_span.set_output(response)\n",
    "                router_span.set_status(Status(StatusCode.OK))\n",
    "\n",
    "        # Get the Label by accessing the content key of the response dictionary\n",
    "        label = response['choices'][0]['message']['content']\n",
    "        total_tokens = response['usage']['total_tokens']\n",
    "        span.set_output(str({\"label\": label, 'total_tokens':total_tokens}))\n",
    "        span.set_status(Status(StatusCode.OK))    \n",
    "    \n",
    "        return label, total_tokens"
   ]
  },
  {
   "cell_type": "code",
   "execution_count": 53,
   "metadata": {
    "deletable": false,
    "editable": false,
    "tags": []
   },
   "outputs": [
    {
     "name": "stdout",
     "output_type": "stream",
     "text": [
      "\u001b[92m All tests passed!\n"
     ]
    }
   ],
   "source": [
    "unittests.test_decide_task_nature(decide_task_nature)"
   ]
  },
  {
   "cell_type": "code",
   "execution_count": 54,
   "metadata": {
    "deletable": false,
    "editable": false,
    "tags": []
   },
   "outputs": [],
   "source": [
    "queries = [\"Give me two sneakers with vibrant colors.\",\n",
    "           \"What are the most expensive clothes you have in your catalogue?\",\n",
    "           \"I have a green Dress and I like a suggestion on an accessory to match with it.\",\n",
    "           \"Give me three trousers with vibrant colors you have in your catalogue.\",\n",
    "           \"Create a look for a woman walking in a park on a sunny day. It must be fresh due to hot weather.\"\n",
    "           ]\n",
    "\n",
    "labels = ['technical', 'technical', 'creative', 'technical', 'creative']"
   ]
  },
  {
   "cell_type": "code",
   "execution_count": 55,
   "metadata": {
    "deletable": false,
    "editable": false,
    "tags": []
   },
   "outputs": [
    {
     "name": "stdout",
     "output_type": "stream",
     "text": [
      "Query: Give me two sneakers with vibrant colors. Label Predicted: \u001b[32mtechnical\u001b[0m. Correct Label: technical Total Tokens: \u001b[32m128\u001b[0m\n",
      "Query: What are the most expensive clothes you have in your catalogue? Label Predicted: \u001b[32mtechnical\u001b[0m. Correct Label: technical Total Tokens: \u001b[32m132\u001b[0m\n",
      "Query: I have a green Dress and I like a suggestion on an accessory to match with it. Label Predicted: \u001b[31mtechnical\u001b[0m. Correct Label: creative Total Tokens: \u001b[32m138\u001b[0m\n",
      "Query: Give me three trousers with vibrant colors you have in your catalogue. Label Predicted: \u001b[32mtechnical\u001b[0m. Correct Label: technical Total Tokens: \u001b[32m133\u001b[0m\n",
      "Query: Create a look for a woman walking in a park on a sunny day. It must be fresh due to hot weather. Label Predicted: \u001b[32mcreative\u001b[0m. Correct Label: creative Total Tokens: \u001b[32m144\u001b[0m\n"
     ]
    }
   ],
   "source": [
    "for query, correct_label in zip(queries, labels):\n",
    "    response, total_tokens = decide_task_nature(query, simplified = True)\n",
    "    label = response\n",
    "    if label == correct_label:\n",
    "        label = \"\\033[32m\" + label + \"\\033[0m\" \n",
    "    else:\n",
    "        label = \"\\033[31m\" + label + \"\\033[0m\"\n",
    "    if total_tokens > 150:\n",
    "        total_tokens = \"\\033[31m\"  + str(total_tokens) + \"\\033[0m\"\n",
    "    else:\n",
    "        total_tokens = \"\\033[32m\"  + str(total_tokens) + \"\\033[0m\"\n",
    "    print(f\"Query: {query} Label Predicted: {label}. Correct Label: {correct_label} Total Tokens: {total_tokens}\")"
   ]
  },
  {
   "cell_type": "markdown",
   "metadata": {},
   "source": [
    "<a id='4-5'></a>\n",
    "### 4.5 Retrieving the parameters for a given task\n",
    "\n",
    "This is the same function as the previous assignment. It uses different parameters for creative and technical questions."
   ]
  },
  {
   "cell_type": "code",
   "execution_count": 56,
   "metadata": {
    "deletable": false,
    "editable": false,
    "tags": [
     "graded"
    ]
   },
   "outputs": [],
   "source": [
    "@tracer.tool\n",
    "def get_params_for_task(task):\n",
    "    \"\"\"\n",
    "    Retrieves specific language model parameters based on the task nature.\n",
    "\n",
    "    This function provides parameter sets tailored for creative or technical tasks to optimize\n",
    "    language model behavior. For creative tasks, higher randomness is encouraged, while technical\n",
    "    tasks are handled with more focus and precision. A default parameter set is provided for unexpected cases.\n",
    "\n",
    "    Parameters:\n",
    "    - task (str): The nature of the task ('creative' or 'technical').\n",
    "\n",
    "    Returns:\n",
    "    - dict: A dictionary containing 'top_p' and 'temperature' settings for the specified task.\n",
    "    \"\"\"\n",
    "    # Create the parameters dict for technical and creative tasks\n",
    "    PARAMETERS_DICT = {\"creative\": {'top_p': 0.9, 'temperature': 1},\n",
    "                       \"technical\": {'top_p': 0.7, 'temperature': 0.3}} \n",
    "    \n",
    "    # If task is technical, return the value for the key technical in PARAMETERS_DICT\n",
    "    if task == 'technical':\n",
    "        param_dict = PARAMETERS_DICT['technical'] \n",
    "\n",
    "    # If task is creative, return the value for the key creative in PARAMETERS_DICT\n",
    "    if task == 'creative':\n",
    "        param_dict = PARAMETERS_DICT['creative'] \n",
    "\n",
    "    # If task is a different value, fallback to another set of parameters\n",
    "    else: # Fallback to a standard value\n",
    "        param_dict = {'top_p': 0.5, 'temperature': 1} \n",
    "\n",
    "    \n",
    "    return param_dict"
   ]
  },
  {
   "cell_type": "markdown",
   "metadata": {},
   "source": [
    "<a id='5'></a>\n",
    "## 5 - Retrieving Items Based on Metadata from a Query\n",
    "\n",
    "---\n",
    "\n",
    "In the previous framework, when a query is identified as a product query, you need to find and return relevant products from the vector database. This process works in three main steps:\n",
    "\n",
    "1. **Generate a metadata JSON** — Use the LLM to guess likely values for some product categories based on the query.\n",
    "2. **Run a semantic search** — Use those values as filters when querying the database.\n",
    "3. **Return the results** — Provide the most relevant products found.\n",
    "\n",
    "The metadata should include values for the following features:\n",
    "\n",
    "* Gender\n",
    "* Master Category\n",
    "* Article Type\n",
    "* Base Color\n",
    "* Season\n",
    "* Usage\n",
    "\n",
    "These categories offer a good trade-off between being specific enough to improve relevance and general enough to avoid missing results. Using too many or overly detailed filters could lead to no matches, while including too few could make the query too broad and inefficient. This balance helps keep the system fast, accurate, and cost-effective in real-world use."
   ]
  },
  {
   "cell_type": "code",
   "execution_count": 57,
   "metadata": {
    "deletable": false,
    "editable": false,
    "tags": []
   },
   "outputs": [
    {
     "data": {
      "text/plain": [
       "{'gender': 'Men',\n",
       " 'masterCategory': 'Apparel',\n",
       " 'subCategory': 'Topwear',\n",
       " 'articleType': 'Shirts',\n",
       " 'baseColour': 'Navy Blue',\n",
       " 'season': 'Fall',\n",
       " 'year': 2011,\n",
       " 'usage': 'Casual',\n",
       " 'productDisplayName': 'Turtle Check Men Navy Blue Shirt',\n",
       " 'price': 67.0,\n",
       " 'product_id': 15970}"
      ]
     },
     "execution_count": 57,
     "metadata": {},
     "output_type": "execute_result"
    }
   ],
   "source": [
    "# Let's remember the data structure of a product\n",
    "products_data[0]"
   ]
  },
  {
   "cell_type": "markdown",
   "metadata": {},
   "source": [
    "This is a dictionary with every possible value for the categories the LLM can pick from to generate a JSON. Note that this dictionary can become huge."
   ]
  },
  {
   "cell_type": "code",
   "execution_count": 58,
   "metadata": {
    "deletable": false,
    "editable": false,
    "tags": []
   },
   "outputs": [],
   "source": [
    "# Run this cell to generate the dictionary with the possible values for each key\n",
    "values = {}\n",
    "for d in products_data:\n",
    "    for key, val in d.items():\n",
    "        if key in ('product_id', 'price', 'productDisplayName', 'subCategory', 'year'):\n",
    "            continue\n",
    "        if key not in values.keys():\n",
    "            values[key] = set()\n",
    "        values[key].add(val)"
   ]
  },
  {
   "cell_type": "code",
   "execution_count": 59,
   "metadata": {
    "deletable": false,
    "editable": false,
    "tags": []
   },
   "outputs": [
    {
     "data": {
      "text/plain": [
       "{'All seasons', 'Fall', 'Spring', 'Summer', 'Winter'}"
      ]
     },
     "execution_count": 59,
     "metadata": {},
     "output_type": "execute_result"
    }
   ],
   "source": [
    "# Example of possible values for the feature 'season'\n",
    "values['season']"
   ]
  },
  {
   "cell_type": "markdown",
   "metadata": {},
   "source": [
    "<a id='5-1'></a>\n",
    "### 5.1 Generate metadata\n",
    "\n",
    "This function generates a metadata JSON with possible values for each clothing category. The possible values are passed through the dictionary \"values\". \n",
    "\n",
    "Note that the prompt is huge. Let's investigate the total tokens for a query."
   ]
  },
  {
   "cell_type": "code",
   "execution_count": 60,
   "metadata": {
    "deletable": false,
    "editable": false,
    "tags": [
     "graded"
    ]
   },
   "outputs": [],
   "source": [
    "def generate_metadata_from_query(query):\n",
    "    \"\"\"\n",
    "    Generates metadata in JSON format based on a given query to filter clothing items.\n",
    "\n",
    "    This function constructs a prompt for a language model to create a JSON object that will\n",
    "    guide the filtering of a vector database query for clothing items. It takes possible values from\n",
    "    a predefined set and ensures only relevant metadata is included in the output JSON.\n",
    "\n",
    "    Parameters:\n",
    "    - query (str): The query describing specific clothing-related needs.\n",
    "\n",
    "    Returns:\n",
    "    - str: A JSON string representing metadata with keys like gender, masterCategory, articleType,\n",
    "      baseColour, price, usage, and season. Each value in the JSON is within a list, with prices specified\n",
    "      as a dict containing \"min\" and \"max\" values. Unrestricted keys should use [\"Any\"] and unspecified\n",
    "      prices should default to {\"min\": 0, \"max\": \"inf\"}.\n",
    "    \"\"\"\n",
    "\n",
    "    # Set the prompt. Remember to include the query, the desired JSON format, the possible values (passing {values} at some point) \n",
    "    # and explain to the LLM what is going on. \n",
    "    # Explicitly tell the llm to include gender, masterCategory, ArticleType, baseColour, price, usage and season as keys.\n",
    "    # Also mention to the llm that price key must be a json with \"min\" and \"max\" values (0 if no lower bound and inf if no upper bound)\n",
    "    # If there is no price set, add min = 0 and max = inf.\n",
    "    PROMPT = f\"\"\"\n",
    "    One query will be provided. For the given query, there will be a call on vector database to query relevant clothing items. \n",
    "    Generate a JSON with useful metadata to filter the products in the query. Possible values for each feature is in the following json: {values}\n",
    "\n",
    "    Provide a JSON with the features that best fit in the query (can be more than one, write in a list). Also, if present, add a price key, saying if there is a price range (between values, greater than or smaller than some value).\n",
    "    Only return the JSON, nothing more. price key must be a JSON with \"min\" and \"max\" values (0 if no lower bound and inf if no upper bound). \n",
    "    Always include gender, masterCategory, articleType, baseColour, price, usage and season as keys. All values must be within lists.\n",
    "    If there is no price set, add min = 0 and max = inf.\n",
    "    Only include values that are given in the json above. \n",
    "    \n",
    "    Example of expected JSON:\n",
    "\n",
    "    {{\n",
    "    \"gender\": [\"Women\"],\n",
    "    \"masterCategory\": [\"Apparel\"],\n",
    "    \"articleType\": [\"Dresses\"],\n",
    "    \"baseColour\": [\"Blue\"],\n",
    "    \"price\": {{\"min\": 0, \"max\": \"inf\"}},\n",
    "    \"usage\": [\"Formal\"],\n",
    "    \"season\": [\"All seasons\"]\n",
    "    }}\n",
    "\n",
    "    Query: {query}\n",
    "             \"\"\"\n",
    "    with tracer.start_as_current_span(\"generate_metadata_from_query\", openinference_span_kind=\"tool\") as span:\n",
    "        span.set_input(query)\n",
    "        with tracer.start_as_current_span(\"llm_call\", openinference_span_kind=\"llm\") as metadata_span:\n",
    "            # Generate the response with the generate_with_single_input, PROMPT, temperature = 0 (low randomness) and max_tokens = 1500.\n",
    "            kwargs = {\"prompt\": PROMPT, 'temperature': 0, \"max_tokens\": 1500}  # @REPLACE EQUALS None\n",
    "            metadata_span.set_input(kwargs)\n",
    "            try:\n",
    "                response = generate_with_single_input(**kwargs) \n",
    "            except Exception as error:\n",
    "                metadata_span.record_exception(error)\n",
    "                metadata_span.set_status(Status(StatusCode.ERROR))\n",
    "            else:\n",
    "                # OpenInference Semantic Conventions for computing Costs\n",
    "                metadata_span.set_attribute(\"llm.token_count.prompt\", response['usage']['prompt_tokens'])\n",
    "                metadata_span.set_attribute(\"llm.token_count.completion\", response['usage']['completion_tokens'])\n",
    "                metadata_span.set_attribute(\"llm.token_count.total\", response['usage']['total_tokens'])\n",
    "                metadata_span.set_attribute(\"llm.model_name\", response['model'])\n",
    "                metadata_span.set_attribute(\"llm.provider\", 'together.ai')\n",
    "                metadata_span.set_output(response)\n",
    "                metadata_span.set_status(Status(StatusCode.OK))\n",
    "\n",
    "        # Get the Label by accessing the content key of the response dictionary\n",
    "        content = response['choices'][0]['message']['content']\n",
    "        total_tokens = response['usage']['total_tokens']\n",
    "        span.set_output({\"content\": content, 'total_tokens':total_tokens})\n",
    "        span.set_status(Status(StatusCode.OK))   \n",
    "\n",
    "    \n",
    "    return content, total_tokens"
   ]
  },
  {
   "cell_type": "code",
   "execution_count": 61,
   "metadata": {
    "deletable": false,
    "editable": false,
    "tags": []
   },
   "outputs": [],
   "source": [
    "content, total_tokens = generate_metadata_from_query(\"Create a look for a man that suits a sunny day in the park. I don't want to spend more than 300 dollars on each piece.\")"
   ]
  },
  {
   "cell_type": "code",
   "execution_count": 62,
   "metadata": {
    "deletable": false,
    "editable": false,
    "tags": []
   },
   "outputs": [
    {
     "name": "stdout",
     "output_type": "stream",
     "text": [
      "{\n",
      "    \"gender\": [\"Men\"],\n",
      "    \"masterCategory\": [\"Apparel\"],\n",
      "    \"articleType\": [\"Shirts\", \"Shorts\", \"Sunglasses\"],\n",
      "    \"baseColour\": [\"Yellow\", \"Orange\", \"Green\", \"Blue\", \"Red\"],\n",
      "    \"price\": {\"min\": 0, \"max\": 300},\n",
      "    \"usage\": [\"Casual\", \"Smart Casual\"],\n",
      "    \"season\": [\"Summer\"]\n",
      "}\n"
     ]
    }
   ],
   "source": [
    "print(content)"
   ]
  },
  {
   "cell_type": "code",
   "execution_count": 63,
   "metadata": {
    "deletable": false,
    "editable": false,
    "tags": []
   },
   "outputs": [
    {
     "name": "stdout",
     "output_type": "stream",
     "text": [
      "1463\n"
     ]
    }
   ],
   "source": [
    "print(total_tokens)"
   ]
  },
  {
   "cell_type": "markdown",
   "metadata": {},
   "source": [
    "So far, each product query has involved processing around **1,500 tokens**—mainly because we generate a set of filters across multiple categories before searching.\n",
    "\n",
    "You will now **simplify** this process.\n",
    "\n",
    "Instead of creating detailed filters for each category (like gender, color, etc.), the system will just use **semantic search directly on the user query**. This means:\n",
    "\n",
    "* No more generating metadata.\n",
    "* Just take the user’s question and run a semantic search on the product collection.\n",
    "\n",
    "This approach is faster, uses fewer tokens, and is still effective for most queries."
   ]
  },
  {
   "cell_type": "markdown",
   "metadata": {},
   "source": [
    "<a id='5-2'></a>\n",
    "### 5.2 Loading the Weaviate Product Collection\n",
    "\n",
    "Now it is time to work with the Weaviate collection. It is already given to you and it is the product_data you saw before, but added as a Weaviate collection, so we can query with semantic search and metadata filtering."
   ]
  },
  {
   "cell_type": "code",
   "execution_count": 64,
   "metadata": {
    "deletable": false,
    "editable": false,
    "tags": []
   },
   "outputs": [],
   "source": [
    "products_collection = client.collections.get('products')"
   ]
  },
  {
   "cell_type": "code",
   "execution_count": 65,
   "metadata": {
    "deletable": false,
    "editable": false,
    "tags": []
   },
   "outputs": [
    {
     "data": {
      "text/plain": [
       "44423"
      ]
     },
     "execution_count": 65,
     "metadata": {},
     "output_type": "execute_result"
    }
   ],
   "source": [
    "len(products_collection)"
   ]
  },
  {
   "cell_type": "markdown",
   "metadata": {},
   "source": [
    "<a id='5-3'></a>\n",
    "\n",
    "<a id='5-3'></a>\n",
    "### 5.3 Filtering by Metadata\n",
    "\n",
    "The functions used to filter by metadata have been moved to the **`utils.py`** file.\n",
    "You can find this file in the **File Browser** on the left panel.\n",
    "\n",
    "You worked with these functions in the previous assignment, but for this one, **you won’t need to use them directly**.\n",
    "\n",
    "So, let’s go ahead and jump into the exercise!"
   ]
  },
  {
   "cell_type": "code",
   "execution_count": 66,
   "metadata": {
    "deletable": false,
    "editable": false
   },
   "outputs": [],
   "source": [
    "@tracer.tool\n",
    "def parse_json_output(llm_output):\n",
    "    \"\"\"\n",
    "    Parses a string output from a language model into a JSON object.\n",
    "\n",
    "    This function attempts to clean and parse a JSON-formatted string produced by a language model (LLM).\n",
    "    The input string might contain minor formatting issues, such as unnecessary newlines or single quotes\n",
    "    instead of double quotes. The function attempts to correct such issues before parsing.\n",
    "\n",
    "    Parameters:\n",
    "    - llm_output (str): The string output from the language model that is expected to be in JSON format.\n",
    "\n",
    "    Returns:\n",
    "    - dict or None: A dictionary if parsing is successful, or None if the input string cannot be parsed into valid JSON.\n",
    "\n",
    "    Exception Handling:\n",
    "    - In case of a JSONDecodeError during parsing, an error message is printed, and the function returns None.\n",
    "    \"\"\"\n",
    "    try:\n",
    "        # Since the input might be improperly formatted, ensure any single quotes are removed\n",
    "        llm_output = llm_output.replace(\"\\n\", '').replace(\"'\",'').replace(\"}}\", \"}\").replace(\"{{\", \"{\")  # Remove any erroneous structures\n",
    "        \n",
    "        # Attempt to parse JSON directly provided it is a properly-structured JSON string\n",
    "        parsed_json = json.loads(llm_output)\n",
    "        return parsed_json\n",
    "    except json.JSONDecodeError as e:\n",
    "        print(f\"JSON parsing failed: {e}\")\n",
    "        return None\n",
    "\n",
    "@tracer.tool\n",
    "def get_filter_by_metadata(json_output: dict | None = None):\n",
    "    \"\"\"\n",
    "    Generate a list of Weaviate filters based on a provided metadata dictionary.\n",
    "\n",
    "    Parameters:\n",
    "    - json_output (dict) or None: Dictionary containing metadata keys and their values.\n",
    "\n",
    "    Returns:\n",
    "    - list[Filter] or None: A list of Weaviate filters, or None if input is None.\n",
    "    \"\"\"\n",
    "    # If the input dictionary is None, return None immediately\n",
    "    if json_output is None:\n",
    "        return None\n",
    "\n",
    "    # Define a tuple of valid keys that are allowed for filtering\n",
    "    valid_keys = (\n",
    "        'gender',\n",
    "        'masterCategory',\n",
    "        'articleType',\n",
    "        'baseColour',\n",
    "        'price',\n",
    "        'usage',\n",
    "        'season',\n",
    "    )\n",
    "\n",
    "    # Initialize an empty list to store the filters\n",
    "    filters = []\n",
    "\n",
    "    # Iterate over each key-value pair in the input dictionary\n",
    "    for key, value in json_output.items():\n",
    "        # Skip the key if it is not in the list of valid keys\n",
    "        if key not in valid_keys:\n",
    "            continue\n",
    "\n",
    "        # Special handling for the 'price' key\n",
    "        if key == 'price':\n",
    "            # Ensure the value associated with 'price' is a dictionary\n",
    "            if not isinstance(value, dict):\n",
    "                continue\n",
    "\n",
    "            # Extract the minimum and maximum prices from the dictionary\n",
    "            min_price = value.get('min')\n",
    "            max_price = value.get('max')\n",
    "\n",
    "            # Skip if either min_price or max_price is not provided\n",
    "            if min_price is None or max_price is None:\n",
    "                continue\n",
    "\n",
    "            # Skip if min_price is non-positive or max_price is infinity\n",
    "            if min_price <= 0 or max_price == 'inf':\n",
    "                continue\n",
    "\n",
    "            # Add filters for price greater than min_price and less than max_price\n",
    "            filters.append(Filter.by_property(key).greater_than(min_price))\n",
    "            filters.append(Filter.by_property(key).less_than(max_price))\n",
    "        else:\n",
    "            # For other valid keys, add a filter that checks for any of the provided values\n",
    "            filters.append(Filter.by_property(key).contains_any(value))\n",
    "\n",
    "    return filters\n",
    "\n",
    "\n",
    "@tracer.tool\n",
    "def generate_filters_from_query(query):\n",
    "    json_string, total_tokens = generate_metadata_from_query(query)\n",
    "    json_output = parse_json_output(json_string)\n",
    "    filters = get_filter_by_metadata(json_output)\n",
    "    return filters, total_tokens"
   ]
  },
  {
   "cell_type": "markdown",
   "metadata": {},
   "source": [
    "<a id='ex04'></a>\n",
    "### Exercise 4\n",
    "\n",
    "---\n"
   ]
  },
  {
   "cell_type": "markdown",
   "metadata": {},
   "source": [
    "The next function retrieves relevant products based on a query.\n",
    "It’s a modified version of the one you used previously, with one key change:\n",
    "\n",
    "* It now includes a boolean parameter called `simplified`.\n",
    "* If `simplified` is `True`, the function **must skip metadata filtering** and perform a **simple semantic search** using the query.\n",
    "* Choose an appropriate limit—5 may be too low. In the previous scenario, 20 items were returned, so you might want to stick with that.\n",
    "\n",
    "Therefore, when `simplified = True`, you should only run a semantic search—**no metadata filters should be applied**.\n",
    "\n",
    "<details>\n",
    "  <summary style=\"color: green;\"><strong>Hint 1</strong></summary>\n",
    "  Use the <code>products_collection</code> (not <code>faq_collection</code>).  \n",
    "  To query the Weaviate database, use:  \n",
    "  <code>products_collection.query.near_text(query, limit=pick_your_limit)</code>\n",
    "</details>"
   ]
  },
  {
   "cell_type": "code",
   "execution_count": 67,
   "metadata": {
    "deletable": false,
    "editable": true,
    "tags": [
     "graded"
    ]
   },
   "outputs": [],
   "source": [
    "# GRADED CELL\n",
    "\n",
    "def get_relevant_products_from_query(query, simplified = False):\n",
    "    \"\"\"\n",
    "    Retrieve the most relevant products for a given query by applying semantic search and optional filters.\n",
    "\n",
    "    This function generates metadata filters from the query and uses them to search for products \n",
    "    that best match the intended criteria. If `simplified` is True, it performs only a basic semantic \n",
    "    search with no filters. If the filtered search returns too few results, it progressively reduces \n",
    "    filtering constraints based on the predefined importance of each filter.\n",
    "\n",
    "    Parameters:\n",
    "    query (str): The query string used to search for relevant products.\n",
    "    simplified (bool): If True, only a simple semantic search is performed without any metadata filters.\n",
    "\n",
    "    Returns:\n",
    "    list: A list of product objects that are most relevant to the query.\n",
    "    total_tokens: The number of tokens used in the LLM call. Returns 0 if simplified search is used.\n",
    "    \"\"\"\n",
    "    \n",
    "    ##############################################\n",
    "    ######### GRADED PART STARTS HERE ############\n",
    "    ##############################################\n",
    "    \n",
    "    ### START CODE HERE ###\n",
    "    \n",
    "    # If simplified, just do a semantic search with 20 objects and return it\n",
    "    if simplified:\n",
    "        with tracer.start_as_current_span(\"get_relevant_products_from_query\", openinference_span_kind=\"retriever\") as span:  \n",
    "            span.set_input({'query':query, 'simplified':simplified})\n",
    "            \n",
    "            ### YOUR CODE BELOW ###\n",
    "            results = products_collection.query.near_text(query, limit=5)\n",
    "\n",
    "            # Set the retrieved documents as attributes on the span\n",
    "            for i, document in enumerate(results.objects): \n",
    "                span.set_attribute(f\"retrieval.documents.{i}.document.id\", str(document.uuid)) \n",
    "                span.set_attribute(f\"retrieval.documents.{i}.document.metadata\", str(document.metadata)) \n",
    "                span.set_attribute( \n",
    "                    f\"retrieval.documents.{i}.document.content\", str(document.properties) #@ KEEP\n",
    "                )  \n",
    "    \n",
    "    ### END CODE HERE ###\n",
    "\n",
    "    ##############################################\n",
    "    ######### GRADED PART ENDS HERE #############\n",
    "    ##############################################\n",
    "            \n",
    "            span.set_output({\"results\": results.objects, \"total_tokens\": 0})\n",
    "            span.set_status(Status(StatusCode.OK))  \n",
    "    \n",
    "            return results.objects, 0  # Total tokens in this case is 0 because there was no LLM call!\n",
    "    # If not simplified, perform the previous workflow by generating the filters and then doing a semantic search with them\n",
    "    \n",
    "    with tracer.start_as_current_span(\"get_relevant_products_from_query\", openinference_span_kind=\"retriever\") as span:  \n",
    "        span.set_input({'query':query, 'simplified':simplified})\n",
    "        filters, total_tokens = generate_filters_from_query(query)  # Generate filters based on the query\n",
    "\n",
    "    # Check if there are no applicable filters\n",
    "        if filters is None or len(filters) == 0:\n",
    "            span.set_attribute(\"retrieval.filters\", '')\n",
    "            results = products_collection.query.near_text(query, limit=20) \n",
    "            # Set the retrieved documents as attributes on the span\n",
    "            for i, document in enumerate(results.objects): \n",
    "                span.set_attribute(f\"retrieval.documents.{i}.document.id\", str(document.uuid))\n",
    "                span.set_attribute(f\"retrieval.documents.{i}.document.metadata\", str(document.metadata)) \n",
    "                span.set_attribute( \n",
    "                    f\"retrieval.documents.{i}.document.content\", str(document.properties) \n",
    "                )  \n",
    "            span.set_output({\"results\": results.objects, \"total_tokens\": total_tokens})\n",
    "            span.set_status(Status(StatusCode.OK))  \n",
    "            return results.objects, total_tokens\n",
    "    # Query with filters and limit to the top 20 relevant objects\n",
    "        span.set_attribute(\"retrieval.filters\", str(filters))\n",
    "        results = products_collection.query.near_text(query, filters=Filter.all_of(filters), limit=20)\n",
    "        span.set_attribute(\"retrieval.len\", len(results.objects))\n",
    "        # Set the retrieved documents as attributes on the span\n",
    "        for i, document in enumerate(results.objects): \n",
    "            span.set_attribute(f\"retrieval.documents.{i}.document.id\", str(document.uuid))\n",
    "            span.set_attribute(f\"retrieval.documents.{i}.document.metadata\", str(document.metadata)) \n",
    "            span.set_attribute( \n",
    "                f\"retrieval.documents.{i}.document.content\", str(document.properties) \n",
    "            )\n",
    "    \n",
    "        # If the result set contains fewer than 10 products, try reducing filters to broaden the search\n",
    "        importance_order = [ 'baseColour', 'masterCategory', 'usage', 'masterCategory', 'season', 'articleType', 'gender']\n",
    "        if len(results.objects) < 10:\n",
    "            # Iterate through the importance order of filters\n",
    "            for i in range(len(importance_order)):\n",
    "                with tracer.start_as_current_span(f\"refilter_{i}\", openinference_span_kind=\"chain\") as refilter_span: \n",
    "                    # Create a list of filters that excludes less important ones\n",
    "                    filtered_filters = [x for x in filters if x.target in importance_order[i+1:]]\n",
    "                    refilter_span.set_input(str(filtered_filters))\n",
    "                    \n",
    "                    results = products_collection.query.near_text(query, filters=Filter.all_of(filtered_filters), limit=20)\n",
    "                    # Set the retrieved documents as attributes on the span\n",
    "                    for j, document in enumerate(results.objects): \n",
    "                        refilter_span.set_attribute(f\"retrieval.documents.{j}.document.id\", str(document.uuid))\n",
    "                        refilter_span.set_attribute(f\"retrieval.documents.{j}.document.metadata\", str(document.metadata)) \n",
    "                        refilter_span.set_attribute( \n",
    "                            f\"retrieval.documents.{j}.document.content\", str(document.properties) \n",
    "                        )\n",
    "                    # If sufficient products have been found, return early\n",
    "                    if len(results.objects) >= 5:\n",
    "                        refilter_span.set_output(results.objects)\n",
    "                        refilter_span.set_status(Status(StatusCode.OK))  \n",
    "                        span.set_output(results.objects)\n",
    "                        span.set_status(Status(StatusCode.OK)) \n",
    "                        return results.objects, total_tokens\n",
    "        span.set_output(results.objects)\n",
    "        span.set_status(Status(StatusCode.OK)) \n",
    "        return results.objects, total_tokens  # Return the final set of relevant products"
   ]
  },
  {
   "cell_type": "code",
   "execution_count": 68,
   "metadata": {
    "deletable": false,
    "editable": false,
    "tags": []
   },
   "outputs": [],
   "source": [
    "query = \"Give me three T-shirts to use in sunny days\""
   ]
  },
  {
   "cell_type": "code",
   "execution_count": 69,
   "metadata": {
    "deletable": false,
    "editable": false,
    "tags": []
   },
   "outputs": [],
   "source": [
    "t, total_tokens = get_relevant_products_from_query(query)"
   ]
  },
  {
   "cell_type": "code",
   "execution_count": 70,
   "metadata": {
    "deletable": false,
    "editable": false,
    "tags": []
   },
   "outputs": [
    {
     "data": {
      "text/plain": [
       "1527"
      ]
     },
     "execution_count": 70,
     "metadata": {},
     "output_type": "execute_result"
    }
   ],
   "source": [
    "total_tokens"
   ]
  },
  {
   "cell_type": "markdown",
   "metadata": {},
   "source": [
    "Around 1500 tokens for this query! Let's try with the simplified version"
   ]
  },
  {
   "cell_type": "code",
   "execution_count": 71,
   "metadata": {
    "deletable": false,
    "editable": false,
    "tags": []
   },
   "outputs": [],
   "source": [
    "t, total_tokens = get_relevant_products_from_query(query, simplified = True)"
   ]
  },
  {
   "cell_type": "code",
   "execution_count": 72,
   "metadata": {
    "deletable": false,
    "editable": false,
    "tags": []
   },
   "outputs": [
    {
     "data": {
      "text/plain": [
       "0"
      ]
     },
     "execution_count": 72,
     "metadata": {},
     "output_type": "execute_result"
    }
   ],
   "source": [
    "total_tokens"
   ]
  },
  {
   "cell_type": "markdown",
   "metadata": {},
   "source": [
    "Note that this query took 0 tokens, as it didn't use the LLM. It directly used the query to retrieve the objects that are in the vector database."
   ]
  },
  {
   "cell_type": "code",
   "execution_count": 73,
   "metadata": {
    "deletable": false,
    "editable": false,
    "tags": []
   },
   "outputs": [
    {
     "name": "stdout",
     "output_type": "stream",
     "text": [
      "\u001b[91mFailed test case: Incorrect result for query = Give me three Tshirts to use in sunny days and simplified = True.\n",
      "Expected: Product IDs must be {3328, 35983, 54935, 6939, 33565, 49964, 2863, 2866, 1844, 1845, 1846, 1847, 1853, 9539, 1866, 4298, 1867, 3431, 37608, 3318}\n",
      "Got: Product IDs output are: {1847, 1844, 1846, 3318, 1853}\n",
      "\n",
      "\n"
     ]
    }
   ],
   "source": [
    "# Test your solution!\n",
    "unittests.test_get_relevant_products_from_query(get_relevant_products_from_query)"
   ]
  },
  {
   "cell_type": "markdown",
   "metadata": {},
   "source": [
    "<a id='5-4'></a>\n",
    "\n",
    "<a id='5-4'></a>\n",
    "### 5.4 Generating the retrieved items as context\n",
    "\n",
    "Now, for the given retrieved items, let's generate a simple context in the following format:\n",
    "\n",
    "```\n",
    "Product Name: Inkfruit Men's Little Bit More T-shirt. Product Category: Apparel. Product Usage: Casual. Product Gender: Men. Product Type: T-shirts. Product Category: Topwear. Product Color: Yellow. Product Season: Summer. Product Year: 2011.\n",
    "```"
   ]
  },
  {
   "cell_type": "code",
   "execution_count": 74,
   "metadata": {
    "deletable": false,
    "editable": false,
    "tags": []
   },
   "outputs": [],
   "source": [
    "@tracer.tool\n",
    "def generate_items_context(results):\n",
    "    \"\"\"\n",
    "    Compile detailed product information from a list of result objects into a formatted string.\n",
    "\n",
    "    Parameters:\n",
    "    results (list): A list of result objects, each having a `properties` attribute that is a dictionary \n",
    "                    containing product attributes such as 'product_id', 'productDisplayName', \n",
    "                    'masterCategory', 'usage', 'gender', 'articleType', 'subCategory', \n",
    "                    'baseColour', 'season', and 'year'.\n",
    "\n",
    "    Returns:\n",
    "    str: A multi-line string where each line contains the formatted details of a single product.\n",
    "         Each product detail includes the product ID, name, category, usage, gender, type, color, \n",
    "         season, and year.\n",
    "    \"\"\"\n",
    "    t = \"\"  # Initialize an empty string to accumulate product information\n",
    "\n",
    "    for item in results:  # Iterate through each item in the results list\n",
    "        item = item.properties  # Access the properties dictionary of the current item\n",
    "\n",
    "        # Append formatted product details to the output string\n",
    "        t += (\n",
    "            f\"Product ID: {item['product_id']}. \"\n",
    "            f\"Product name: {item['productDisplayName']}. \"\n",
    "            f\"Product Category: {item['masterCategory']}. \"\n",
    "            f\"Product usage: {item['usage']}. \"\n",
    "            f\"Product gender: {item['gender']}. \"\n",
    "            f\"Product Type: {item['articleType']}. \"\n",
    "            f\"Product Category: {item['subCategory']} \"\n",
    "            f\"Product Color: {item['baseColour']}. \"\n",
    "            f\"Product Season: {item['season']}. \"\n",
    "            f\"Product Year: {item['year']}.\\n\"\n",
    "        )\n",
    "\n",
    "    return t  # Return the complete formatted string with product details"
   ]
  },
  {
   "cell_type": "code",
   "execution_count": 75,
   "metadata": {
    "deletable": false,
    "editable": false,
    "tags": []
   },
   "outputs": [
    {
     "name": "stdout",
     "output_type": "stream",
     "text": [
      "Product ID: 1844. Product name: Inkfruit Mens D day T-shirt. Product Category: Apparel. Product usage: Casual. Product gender: Men. Product Type: Tshirts. Product Category: Topwear Product Color: Blue. Product Season: Summer. Product Year: 2011.\n",
      "Product ID: 1853. Product name: Inkfruit Mens Little Bit More T-shirt. Product Category: Apparel. Product usage: Casual. Product gender: Men. Product Type: Tshirts. Product Category: Topwear Product Color: Yellow. Product Season: Summer. Product Year: 2011.\n",
      "Product ID: 1847. Product name: Inkfruit Mens Messy T-shirt. Product Category: Apparel. Product usage: Casual. Product gender: Men. Product Type: Tshirts. Product Category: Topwear Product Color: Blue. Product Season: Summer. Product Year: 2011.\n",
      "Product ID: 3431. Product name: Myntra Mens I Have a Helluva Attitude T-shirt. Product Category: Apparel. Product usage: Casual. Product gender: Men. Product Type: Tshirts. Product Category: Topwear Product Color: Black. Product Season: Summer. Produ\n"
     ]
    }
   ],
   "source": [
    "print(generate_items_context(t)[:1000])"
   ]
  },
  {
   "cell_type": "markdown",
   "metadata": {},
   "source": [
    "<a id='5-5'></a>\n",
    "### 5.5 Query on Products\n",
    "\n",
    "The next function will answer a product query. "
   ]
  },
  {
   "cell_type": "code",
   "execution_count": 76,
   "metadata": {
    "deletable": false,
    "editable": false,
    "tags": []
   },
   "outputs": [],
   "source": [
    "@tracer.tool\n",
    "def query_on_products(query, simplified = False):\n",
    "    \"\"\"\n",
    "    Execute a product query process to generate a response based on the nature of the query.\n",
    "\n",
    "    Parameters:\n",
    "    query (str): The input query string that needs to be analyzed and answered using product data.\n",
    "    task_nature_prompt_function (func): The prompt function to be used to decide the task nature (if creative of technical)\n",
    "    simplified (bool): If True, does not use LLM to generate metadata for filtering\n",
    "\n",
    "    Returns:\n",
    "    dict: A dictionary of keyword arguments (`kwargs`) containing the prompt and additional settings \n",
    "          for creating a response, suitable for input to an LLM or other processing system.\n",
    "    int: Number of tokens used in the process to create the kwargs dictionary\n",
    "\n",
    "    Outputs:\n",
    "    str: The content of the generated response from the LLM based on the provided query and product \n",
    "         information.\n",
    "    \"\"\"\n",
    "    total_tokens = 0\n",
    "    # Determine if the query is technical or creative in nature\n",
    "    \n",
    "    query_label, tokens = decide_task_nature(query, simplified = simplified)\n",
    "    \n",
    "    # Sum the tokens used to decide the task nature (creative or technical)\n",
    "    total_tokens += tokens\n",
    "\n",
    "    # Obtain necessary parameters based on the query type\n",
    "    parameters_dict = get_params_for_task(query_label)\n",
    "    \n",
    "    # Retrieve products that are relevant to the query\n",
    "    relevant_products, tokens = get_relevant_products_from_query(query, simplified = simplified)\n",
    "    \n",
    "    # Sum the tokens used to get relevant products \n",
    "    total_tokens += tokens\n",
    "     \n",
    "    # Create a context string from the relevant products\n",
    "    context = generate_items_context(relevant_products)\n",
    "\n",
    "    # Construct a prompt including product details and the query. Remember to add the context and the query in the prompt, also, ask the LLM to provide the product ID in the answer\n",
    "    PROMPT = (\n",
    "        f\"Given the available set of clothing products given by: \"\n",
    "        f\"CLOTHING PRODUCTS AVAILABLE:\\n{context}\\n\"\n",
    "        f\"Answer the question that follows.\\n\"\n",
    "        f\"Never use more than 5 clothing products available below to compose your answer.\\n\"\n",
    "        f\"Provide the item ID in your answers.\\n\"\n",
    "        f\"The other information might be provided but not necessarily all of them, pick only the relevant ones for the given query.\\n\"\n",
    "        \n",
    "        f\"QUERY: {query}\"\n",
    "    )\n",
    "    \n",
    "    # Generate kwargs (parameters dict) for parameterized input to the LLM with , Prompt, role = 'assistant' and **parameters_dict\n",
    "    kwargs = generate_params_dict(PROMPT, role='assistant', **parameters_dict) \n",
    "\n",
    "    \n",
    "    return kwargs, total_tokens"
   ]
  },
  {
   "cell_type": "markdown",
   "metadata": {},
   "source": [
    "Let's check with both the previous setup and the enhanced setup\n",
    "\n",
    "\n",
    "#### Previous setup with simplified = False"
   ]
  },
  {
   "cell_type": "code",
   "execution_count": 77,
   "metadata": {
    "deletable": false,
    "editable": false,
    "tags": []
   },
   "outputs": [],
   "source": [
    "kwargs, total_tokens = query_on_products('Make a wonderful look for a man attending a wedding party happening during night.', simplified = False)"
   ]
  },
  {
   "cell_type": "code",
   "execution_count": 78,
   "metadata": {
    "deletable": false,
    "editable": false,
    "tags": []
   },
   "outputs": [
    {
     "name": "stdout",
     "output_type": "stream",
     "text": [
      "To create a wonderful look for a man attending a wedding party at night, I recommend combining the following five clothing products:\n",
      "\n",
      "1. Product ID: 12324 - Genesis Navy Formal Shirt (Product Category: Apparel, Product usage: Formal, Product gender: Men, Product Type: Shirts, Product Category: Topwear, Product Color: Navy Blue, Product Season: Winter, Product Year: 2011)\n",
      "2. Product ID: 14712 - Genesis Off-White Formal Shirt (Product Category: Apparel, Product usage: Formal, Product gender: Men, Product Type: Shirts, Product Category: Topwear, Product Color: Off White, Product Season: Winter, Product Year: 2011)\n",
      "3. Product ID: 12259 - Genesis Grey Formal Shirt (Product Category: Apparel, Product usage: Formal, Product gender: Men, Product Type: Shirts, Product Category: Topwear, Product Color: Grey, Product Season: Winter, Product Year: 2011)\n",
      "4. Product ID: 12260 - Genesis Blue Striped Formal Shirt (Product Category: Apparel, Product usage: Formal, Product gender: Men, Product Type: Shirts, Product Category: Topwear, Product Color: Blue, Product Season: Winter, Product Year: 2011)\n",
      "5. Product ID: 12321 - Genesis Blue Striped Formal Shirt (Product Category: Apparel, Product usage: Formal, Product gender: Men, Product Type: Shirts, Product Category: Topwear, Product Color: Blue, Product Season: Winter, Product Year: 2011)\n",
      "\n",
      "This combination will create a stylish and versatile outfit for a man attending a wedding party at night. The navy and off-white shirts will provide a classic and sophisticated base, while the grey and blue striped shirts can be used as a layering option to add some texture and visual interest to the outfit.\n"
     ]
    }
   ],
   "source": [
    "result = generate_with_single_input(**kwargs)\n",
    "print(result['choices'][0]['message']['content'])"
   ]
  },
  {
   "cell_type": "markdown",
   "metadata": {},
   "source": [
    "Now let's sum the total tokens to generate the kwargs dictionary and the total tokens used in the final execution."
   ]
  },
  {
   "cell_type": "code",
   "execution_count": 79,
   "metadata": {
    "deletable": false,
    "editable": false,
    "tags": []
   },
   "outputs": [
    {
     "name": "stdout",
     "output_type": "stream",
     "text": [
      "Total tokens used in the query is: 3345\n"
     ]
    }
   ],
   "source": [
    "print(f\"Total tokens used in the query is: {total_tokens + result['usage']['total_tokens']}\")"
   ]
  },
  {
   "cell_type": "markdown",
   "metadata": {},
   "source": [
    "**New setup with <code>simplified = True</code>**"
   ]
  },
  {
   "cell_type": "code",
   "execution_count": 80,
   "metadata": {
    "deletable": false,
    "editable": false,
    "tags": []
   },
   "outputs": [],
   "source": [
    "kwargs, total_tokens = query_on_products('Make a wonderful look for a man attending a wedding party happening during night.', simplified = True)"
   ]
  },
  {
   "cell_type": "code",
   "execution_count": 81,
   "metadata": {
    "deletable": false,
    "editable": false
   },
   "outputs": [
    {
     "data": {
      "text/plain": [
       "135"
      ]
     },
     "execution_count": 81,
     "metadata": {},
     "output_type": "execute_result"
    }
   ],
   "source": [
    "total_tokens"
   ]
  },
  {
   "cell_type": "code",
   "execution_count": 82,
   "metadata": {
    "deletable": false,
    "editable": false,
    "tags": []
   },
   "outputs": [
    {
     "name": "stdout",
     "output_type": "stream",
     "text": [
      "To create a wonderful look for a man attending a wedding party at night, I suggest combining the following three clothing products:\n",
      "\n",
      "1. Product ID: 17378. Product name: Arrow Men Formal Purple Tie+Cufflink+Pocket square - Combo Pack.\n",
      "2. Product ID: 17377. Product name: Arrow Men Formal Purple Tie+Cufflink+Pocket square - Combo Pack.\n",
      "3. Product ID: 17373. Product name: Arrow Men Formal Purple Tie+Cufflink+Pocket square - Combo Pack.\n",
      "\n",
      "These three products will complement each other perfectly for a formal look at night. The purple color will match the theme of the wedding, and the tie, cufflink, and pocket square will add a touch of elegance. The combination of these three products will create a stunning and memorable look for the man attending the wedding party.\n"
     ]
    }
   ],
   "source": [
    "result = generate_with_single_input(**kwargs)\n",
    "print(result['choices'][0]['message']['content'])"
   ]
  },
  {
   "cell_type": "code",
   "execution_count": 83,
   "metadata": {
    "deletable": false,
    "editable": false,
    "tags": []
   },
   "outputs": [
    {
     "name": "stdout",
     "output_type": "stream",
     "text": [
      "Total tokens used in the query is: 770\n"
     ]
    }
   ],
   "source": [
    "print(f\"Total tokens used in the query is: {total_tokens + result['usage']['total_tokens']}\")"
   ]
  },
  {
   "cell_type": "markdown",
   "metadata": {},
   "source": [
    "And the total tokens used in one query was way lower than before!"
   ]
  },
  {
   "cell_type": "markdown",
   "metadata": {},
   "source": [
    "<a id='6'></a>\n",
    "## 6 - The final function! \n",
    "---\n",
    "<a id='6-1'></a>\n",
    "### 6.1 The function to rule them all\n",
    "\n",
    "Now let's consolidate the functions\n",
    "\n",
    "The function will:\n",
    "\n",
    "1. Check if the query is FAQ or Product\n",
    "2. If FAQ, runs the FAQ related workflow\n",
    "3. If Product, runs the Product related workflow\n",
    "4. Add the information into a dataframe\n",
    "\n",
    "It returns the kwargs dict with the appropriate arguments and the total tokens used to get to the kwargs dict."
   ]
  },
  {
   "cell_type": "code",
   "execution_count": 84,
   "metadata": {
    "deletable": false,
    "editable": false,
    "tags": []
   },
   "outputs": [],
   "source": [
    "@tracer.tool\n",
    "def answer_query(query, model = \"meta-llama/Meta-Llama-3.1-8B-Instruct-Turbo\",simplified=False):\n",
    "    \"\"\"\n",
    "    Processes a user's query to determine its type (FAQ or Product) and executes the appropriate workflow.\n",
    "    \n",
    "    Parameters:\n",
    "    - query (str): The query string provided by the user.\n",
    "    - model (str): The model that will answer the question. Defaults to meta-llama/Meta-Llama-3.1-8B-Instruct-Turbo'\n",
    "    - simplified (bool): If True, uses a simplified version of the method. Defaults to False.\n",
    "    \n",
    "    Returns:\n",
    "    - dict: A dictionary containing keyword arguments for further processing.\n",
    "      If the query is neither FAQ nor Product-related, returns a default response dictionary instructing\n",
    "      the assistant to answer based on existing context.\n",
    "    \"\"\"\n",
    "    # Initialize the total tokens used to zero\n",
    "    total_tokens = 0\n",
    "    \n",
    "    # Determine if the query is FAQ or Product and get the token count for this step\n",
    "    label, tokens = check_if_faq_or_product(query, simplified=simplified)\n",
    "    \n",
    "    # Sum the tokens\n",
    "    total_tokens += tokens\n",
    "    \n",
    "    # If the query is neither FAQ nor Product, return a default response\n",
    "    if label not in ['FAQ', 'Product']:\n",
    "        return {\n",
    "            \"role\": \"assistant\",\n",
    "            \"prompt\": (f\"User provided a question that does not fit FAQ or Product-related categories. \"\n",
    "                       f\"Answer it based on the context you already have. Query provided by the user: {query}\")\n",
    "        }\n",
    "    \n",
    "    # Process the query based on its label\n",
    "    if label == 'FAQ':\n",
    "        # Handle FAQ-related queries\n",
    "        kwargs = query_on_faq(query, simplified=simplified)\n",
    "    elif label == 'Product':\n",
    "        try:\n",
    "            # Handle Product-related queries, with error handling in place\n",
    "            kwargs, tokens = query_on_products(query, simplified=simplified)\n",
    "            # Add the tokens to the total tokens\n",
    "            total_tokens += tokens\n",
    "        except Exception:\n",
    "            # Return an error response if an exception occurs during querying\n",
    "            return {\n",
    "                \"role\": \"assistant\",\n",
    "                \"prompt\": (f\"User provided a question that broke the querying system. \"\n",
    "                           f\"Instruct them to rephrase it. Answer it based on the context you already have. \"\n",
    "                           f\"Query provided by the user: {query}\")\n",
    "            }, total_tokens\n",
    "    # Set the model to answer the final query - usually a better one         \n",
    "    kwargs['model'] = model\n",
    "    # Return the kwargs and total_tokens for further processing\n",
    "    return kwargs, total_tokens"
   ]
  },
  {
   "cell_type": "code",
   "execution_count": 85,
   "metadata": {
    "deletable": false,
    "editable": false,
    "tags": []
   },
   "outputs": [],
   "source": [
    "kwargs, total_tokens = answer_query(\"Give me three examples of blue t-shirts available on your catalogue.\", simplified = False)"
   ]
  },
  {
   "cell_type": "code",
   "execution_count": 86,
   "metadata": {
    "deletable": false,
    "editable": false,
    "tags": []
   },
   "outputs": [
    {
     "name": "stdout",
     "output_type": "stream",
     "text": [
      "Here are three examples of blue t-shirts available on the catalogue:\n",
      "\n",
      "1. Product ID: 1847. Product name: Inkfruit Mens Messy T-shirt. Product Color: Blue. Product Season: Summer. Product Year: 2011.\n",
      "2. Product ID: 3103. Product name: Probase Men's Wtf Blue T-Shirt. Product Color: Navy Blue. Product Season: Summer. Product Year: 2011.\n",
      "3. Product ID: 3754. Product name: Status Quo Men's Music Revolution Blue T-shirt. Product Color: Blue. Product Season: Summer. Product Year: 2011.\n"
     ]
    }
   ],
   "source": [
    "result = generate_with_single_input(**kwargs)\n",
    "print(result['choices'][0]['message']['content'])"
   ]
  },
  {
   "cell_type": "code",
   "execution_count": 87,
   "metadata": {
    "deletable": false,
    "editable": false,
    "tags": []
   },
   "outputs": [
    {
     "data": {
      "text/plain": [
       "3390"
      ]
     },
     "execution_count": 87,
     "metadata": {},
     "output_type": "execute_result"
    }
   ],
   "source": [
    "# To get the total tokens for the call, we must sum the total_tokens to get the kwargs dictionary + total tokens from the LLM call\n",
    "total_tokens +  result['usage']['total_tokens']"
   ]
  },
  {
   "cell_type": "code",
   "execution_count": 88,
   "metadata": {
    "deletable": false,
    "editable": false,
    "tags": []
   },
   "outputs": [],
   "source": [
    "kwargs, total_tokens = answer_query(\"Give me three examples of blue t-shirts available on your catalogue.\", simplified = True)"
   ]
  },
  {
   "cell_type": "code",
   "execution_count": 89,
   "metadata": {
    "deletable": false,
    "editable": false,
    "tags": []
   },
   "outputs": [
    {
     "name": "stdout",
     "output_type": "stream",
     "text": [
      "Based on the available clothing products, here are three examples of blue t-shirts:\n",
      "\n",
      "1. Product ID: 1847. Product name: Inkfruit Mens Messy T-shirt. Product Color: Blue.\n",
      "2. Product ID: 3995. Product name: Mr.Men Men's Thats Funny Blue T-shirt. Product Color: Blue.\n",
      "3. Product ID: 3416. Product name: Myntra Mens Broken Guitar T-shirt. Product Color: Blue.\n"
     ]
    }
   ],
   "source": [
    "result = generate_with_single_input(**kwargs)\n",
    "print(result['choices'][0]['message']['content'])"
   ]
  },
  {
   "cell_type": "code",
   "execution_count": 90,
   "metadata": {
    "deletable": false,
    "editable": false,
    "tags": []
   },
   "outputs": [
    {
     "data": {
      "text/plain": [
       "840"
      ]
     },
     "execution_count": 90,
     "metadata": {},
     "output_type": "execute_result"
    }
   ],
   "source": [
    "total_tokens +  result['usage']['total_tokens']"
   ]
  },
  {
   "cell_type": "markdown",
   "metadata": {},
   "source": [
    "<a id='6-3'></a>\n",
    "\n",
    "<a id='7'></a>\n",
    "## 7 - The ChatBot\n",
    "\n",
    "Now you will run the ChatBot again! There are minor changes compared to the previous version to allow result logging. There are two versions available: one with the same behavior as in the previous assignment, and another with the new behavior.\n",
    "\n",
    "We suggest trying the following queries to compare results and token usage:\n",
    "\n",
    "* I bought a T-shirt and I didn't like it. Can I get a refund?\n",
    "* I want a look to wear to a beach party at night. It's winter, and I'm a woman."
   ]
  },
  {
   "cell_type": "code",
   "execution_count": 91,
   "metadata": {
    "deletable": false,
    "editable": false,
    "tags": []
   },
   "outputs": [
    {
     "data": {
      "application/vnd.jupyter.widget-view+json": {
       "model_id": "9bbc388f0e5542bebfcc022e9c7da685",
       "version_major": 2,
       "version_minor": 0
      },
      "text/plain": [
       "VBox(children=(HTML(value=''), HBox(), HBox(children=(Text(value='', layout=Layout(width='90%'), placeholder='…"
      ]
     },
     "metadata": {},
     "output_type": "display_data"
    }
   ],
   "source": [
    "chat_widget_standard = ChatWidget(generator_function = lambda x: answer_query(x, simplified = False), tracer = tracer)"
   ]
  },
  {
   "cell_type": "markdown",
   "metadata": {
    "tags": []
   },
   "source": [
    "Now go to the UI to check!\n"
   ]
  },
  {
   "cell_type": "code",
   "execution_count": 92,
   "metadata": {
    "deletable": false,
    "editable": false
   },
   "outputs": [
    {
     "name": "stdout",
     "output_type": "stream",
     "text": [
      "\u001b[1mFOLLOW THIS URL TO OPEN THE UI: http://emffpxgwdflg.labs.coursera.org\u001b[0m\n"
     ]
    }
   ],
   "source": [
    "make_url()"
   ]
  },
  {
   "cell_type": "markdown",
   "metadata": {},
   "source": [
    "Now test the simplified version!"
   ]
  },
  {
   "cell_type": "code",
   "execution_count": null,
   "metadata": {
    "deletable": false,
    "editable": false,
    "tags": []
   },
   "outputs": [],
   "source": [
    "chat_widget_simplified = ChatWidget(generator_function = lambda x: answer_query(x, simplified = True), tracer = tracer)"
   ]
  },
  {
   "cell_type": "code",
   "execution_count": null,
   "metadata": {
    "deletable": false,
    "editable": false,
    "tags": []
   },
   "outputs": [],
   "source": [
    "make_url()"
   ]
  },
  {
   "cell_type": "markdown",
   "metadata": {},
   "source": [
    "Congratulations! You improved your ChatBot using RAG techniques to reduce token count and added a logging system!"
   ]
  }
 ],
 "metadata": {
  "grader_version": "1",
  "kernelspec": {
   "display_name": "Python 3 (ipykernel)",
   "language": "python",
   "name": "python3"
  },
  "language_info": {
   "codemirror_mode": {
    "name": "ipython",
    "version": 3
   },
   "file_extension": ".py",
   "mimetype": "text/x-python",
   "name": "python",
   "nbconvert_exporter": "python",
   "pygments_lexer": "ipython3",
   "version": "3.12.11"
  }
 },
 "nbformat": 4,
 "nbformat_minor": 4
}
